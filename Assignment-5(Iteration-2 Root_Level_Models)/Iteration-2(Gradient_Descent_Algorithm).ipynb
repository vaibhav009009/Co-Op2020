{
 "cells": [
  {
   "cell_type": "markdown",
   "metadata": {},
   "source": [
    "#### In this notebook we shall try to apply Gradient Descent Algorithm from the roots to build a Linear Regression Model: "
   ]
  },
  {
   "cell_type": "code",
   "execution_count": 87,
   "metadata": {},
   "outputs": [],
   "source": [
    "#Importing the requisite Libraries/Packages:\n",
    "import numpy as np\n",
    "import matplotlib.pyplot as plt"
   ]
  },
  {
   "cell_type": "code",
   "execution_count": 88,
   "metadata": {},
   "outputs": [],
   "source": [
    "#Loading the data from a text file('ex0.txt'):\n",
    "def loadDataSet(fileName):\n",
    "    numFeat = len(open(fileName).readline().split('\\t'))-1\n",
    "    dataMat = []; labelMat = []\n",
    "    fr = open(fileName)\n",
    "    for line in fr.readlines():\n",
    "        lineArr = []\n",
    "        curLine= line.strip().split('\\t')\n",
    "        for i in range(numFeat):\n",
    "            lineArr.append(float(curLine[i]))\n",
    "        dataMat.append(lineArr)\n",
    "        labelMat.append(float(curLine[-1]))\n",
    "    return dataMat,labelMat"
   ]
  },
  {
   "cell_type": "code",
   "execution_count": 89,
   "metadata": {},
   "outputs": [],
   "source": [
    "#Splitting the data into 'Attributes(x)' and 'Labels':\n",
    "x_list,y_list = loadDataSet('ex0.txt')\n",
    "xMat = mat(x_list)\n",
    "yMat = mat(y_list).T\n",
    "x = xMat[:,1].flatten().A[0]\n",
    "y = yMat.flatten().A[0]"
   ]
  },
  {
   "cell_type": "code",
   "execution_count": 90,
   "metadata": {},
   "outputs": [],
   "source": [
    "#Constructing the function for 'Gradient-Descent' Algorithm:\n",
    "def grad_desc(xArr,yArr,iter,learn_rate):\n",
    "    m_updated=0\n",
    "    c_updated=0\n",
    "    sq_error=0\n",
    "    N=float(len(yArr))\n",
    "    for i in range(iter):\n",
    "        y_calc = (m_updated * xArr) + c_updated\n",
    "        for j in (yArr-y_calc):\n",
    "            sq_error = sq_error + (j**2)\n",
    "        cost = sq_error/N\n",
    "        m_gradient = -(2/N) * sum(xArr*(yArr-y_calc))\n",
    "        c_gradient = -(2/N) * sum(yArr-y_calc)\n",
    "        m_updated = m_updated - (learn_rate * m_gradient)\n",
    "        c_updated = c_updated - (learn_rate * c_gradient)\n",
    "    return m_updated,c_updated,cost,y_calc"
   ]
  },
  {
   "cell_type": "code",
   "execution_count": 91,
   "metadata": {},
   "outputs": [],
   "source": [
    "#Calling the 'Gradient-Descent' function by passing the testing values:\n",
    "m_updated,c_updated,cost,y_calc = grad_desc(x,y,10000,0.01)"
   ]
  },
  {
   "cell_type": "code",
   "execution_count": 92,
   "metadata": {},
   "outputs": [
    {
     "data": {
      "text/plain": [
       "[<matplotlib.lines.Line2D at 0xce1e9a32c8>]"
      ]
     },
     "execution_count": 92,
     "metadata": {},
     "output_type": "execute_result"
    },
    {
     "data": {
      "image/png": "[encoded data removed]",
      "text/plain": [
       "<Figure size 432x288 with 1 Axes>"
      ]
     },
     "metadata": {
      "needs_background": "light"
     },
     "output_type": "display_data"
    }
   ],
   "source": [
    "#Plotting the 'Actual' and 'Predicted' values of our 'Label(y)':\n",
    "fig = plt.figure()\n",
    "ax = fig.add_subplot(111)\n",
    "ax.scatter(x,y)\n",
    "plt.plot([min(x),max(x)],[min(y_calc),max(y_calc)],color='r')"
   ]
  },
  {
   "cell_type": "code",
   "execution_count": 93,
   "metadata": {},
   "outputs": [
    {
     "data": {
      "text/plain": [
       "369.5652785476561"
      ]
     },
     "execution_count": 93,
     "metadata": {},
     "output_type": "execute_result"
    }
   ],
   "source": [
    "#Displaying the 'Cost':\n",
    "cost"
   ]
  }
 ],
 "metadata": {
  "kernelspec": {
   "display_name": "Python 3",
   "language": "python",
   "name": "python3"
  },
  "language_info": {
   "codemirror_mode": {
    "name": "ipython",
    "version": 3
   },
   "file_extension": ".py",
   "mimetype": "text/x-python",
   "name": "python",
   "nbconvert_exporter": "python",
   "pygments_lexer": "ipython3",
   "version": "3.7.6"
  }
 },
 "nbformat": 4,
 "nbformat_minor": 4
}
