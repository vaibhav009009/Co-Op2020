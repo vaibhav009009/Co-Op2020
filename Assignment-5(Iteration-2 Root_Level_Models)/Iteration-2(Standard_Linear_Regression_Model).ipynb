{
 "cells": [
  {
   "cell_type": "markdown",
   "metadata": {},
   "source": [
    "#### In this notebook we shall build a Standard Linear Regression Model from the basics without using any Sci-kit Libraries/Packages:"
   ]
  },
  {
   "cell_type": "code",
   "execution_count": 24,
   "metadata": {},
   "outputs": [],
   "source": [
    "#Importing the requisite Libraries/Packages:\n",
    "from numpy import *"
   ]
  },
  {
   "cell_type": "code",
   "execution_count": 25,
   "metadata": {},
   "outputs": [],
   "source": [
    "#Loading the data from a text file('ex0.txt'):\n",
    "def loadDataSet(fileName):\n",
    "    numFeat = len(open(fileName).readline().split('\\t'))-1\n",
    "    dataMat = []; labelMat = []\n",
    "    fr = open(fileName)\n",
    "    for line in fr.readlines():\n",
    "        lineArr = []\n",
    "        curLine= line.strip().split('\\t')\n",
    "        for i in range(numFeat):\n",
    "            lineArr.append(float(curLine[i]))\n",
    "        dataMat.append(lineArr)\n",
    "        labelMat.append(float(curLine[-1]))\n",
    "    return dataMat,labelMat"
   ]
  },
  {
   "cell_type": "code",
   "execution_count": 26,
   "metadata": {},
   "outputs": [],
   "source": [
    "#Constructing the function for 'Standard Linear Regression Algorithm':\n",
    "def standRegres(xArr,yArr):\n",
    "    xMat = mat(xArr); yMat = mat(yArr).T\n",
    "    xTx = xMat.T*xMat\n",
    "    if linalg.det(xTx) == 0.0:\n",
    "        print (\"This matrix is singular, inverse does not exist\")\n",
    "        return\n",
    "    ws = xTx.I * (xMat.T*yMat)\n",
    "    return ws"
   ]
  },
  {
   "cell_type": "code",
   "execution_count": 27,
   "metadata": {},
   "outputs": [],
   "source": [
    "#Splitting the data into 'Attributes(x)' and 'Labels(y)':\n",
    "xArr,yArr = loadDataSet('ex0.txt')"
   ]
  },
  {
   "cell_type": "code",
   "execution_count": 28,
   "metadata": {},
   "outputs": [
    {
     "data": {
      "text/plain": [
       "[[1.0, 0.42781], [1.0, 0.995731]]"
      ]
     },
     "execution_count": 28,
     "metadata": {},
     "output_type": "execute_result"
    }
   ],
   "source": [
    "#Inspecting the first two rows of the 'Attributes(x)':\n",
    "xArr[1:3]"
   ]
  },
  {
   "cell_type": "code",
   "execution_count": 29,
   "metadata": {},
   "outputs": [
    {
     "data": {
      "text/plain": [
       "matrix([[3.00774324],\n",
       "        [1.69532264]])"
      ]
     },
     "execution_count": 29,
     "metadata": {},
     "output_type": "execute_result"
    }
   ],
   "source": [
    "#Calling the 'Standard Linear Regression' function while passing the required parameters:\n",
    "ws = standRegres(xArr,yArr)\n",
    "ws"
   ]
  },
  {
   "cell_type": "code",
   "execution_count": 30,
   "metadata": {},
   "outputs": [
    {
     "data": {
      "text/plain": [
       "matrix([[3.12257084],\n",
       "        [3.73301922],\n",
       "        [4.69582855],\n",
       "        [4.25946098],\n",
       "        [4.67099547],\n",
       "        [3.89977285],\n",
       "        [3.65007895],\n",
       "        [3.06514517],\n",
       "        [3.23286683],\n",
       "        [3.24221654],\n",
       "        [3.42785945],\n",
       "        [4.10677005],\n",
       "        [4.24737842],\n",
       "        [3.40925159],\n",
       "        [4.6518468 ],\n",
       "        [4.03763819],\n",
       "        [3.61572324],\n",
       "        [3.25838991],\n",
       "        [4.08905393],\n",
       "        [3.39829811],\n",
       "        [3.12681762],\n",
       "        [3.12159094],\n",
       "        [4.57689489],\n",
       "        [4.22453225],\n",
       "        [3.03380205],\n",
       "        [3.575795  ],\n",
       "        [3.07638008],\n",
       "        [3.36812645],\n",
       "        [4.05412689],\n",
       "        [3.92524508],\n",
       "        [3.08463121],\n",
       "        [3.22264573],\n",
       "        [3.95116656],\n",
       "        [4.53547307],\n",
       "        [4.63266931],\n",
       "        [3.47321272],\n",
       "        [3.67637171],\n",
       "        [4.48687834],\n",
       "        [3.70271024],\n",
       "        [4.54873897],\n",
       "        [3.29055527],\n",
       "        [4.13515992],\n",
       "        [3.4548456 ],\n",
       "        [3.39972557],\n",
       "        [3.9451346 ],\n",
       "        [3.08868473],\n",
       "        [3.62780072],\n",
       "        [3.84693134],\n",
       "        [3.84432733],\n",
       "        [4.35061   ],\n",
       "        [4.31256527],\n",
       "        [3.43466109],\n",
       "        [3.31620889],\n",
       "        [4.37786401],\n",
       "        [3.57417766],\n",
       "        [3.58183035],\n",
       "        [3.77501915],\n",
       "        [4.18560255],\n",
       "        [4.00951278],\n",
       "        [3.52978055],\n",
       "        [3.25926809],\n",
       "        [4.1981649 ],\n",
       "        [4.23099312],\n",
       "        [4.13833018],\n",
       "        [3.2195416 ],\n",
       "        [4.0559375 ],\n",
       "        [3.65380697],\n",
       "        [3.66153255],\n",
       "        [4.32530562],\n",
       "        [3.20455155],\n",
       "        [3.20353097],\n",
       "        [4.13260677],\n",
       "        [3.43985386],\n",
       "        [4.69270407],\n",
       "        [3.50859919],\n",
       "        [4.62257705],\n",
       "        [3.52828697],\n",
       "        [3.47779009],\n",
       "        [3.48090949],\n",
       "        [3.30565212],\n",
       "        [3.27286288],\n",
       "        [4.25069447],\n",
       "        [4.44561758],\n",
       "        [4.31514894],\n",
       "        [3.73587075],\n",
       "        [3.28268389],\n",
       "        [4.56246261],\n",
       "        [3.54184447],\n",
       "        [3.34930498],\n",
       "        [3.51131849],\n",
       "        [3.57846852],\n",
       "        [4.13701291],\n",
       "        [3.99762179],\n",
       "        [3.15189822],\n",
       "        [4.17244007],\n",
       "        [4.61771487],\n",
       "        [3.32970536],\n",
       "        [4.43864133],\n",
       "        [3.57277394],\n",
       "        [3.73170535],\n",
       "        [3.79838917],\n",
       "        [3.94128791],\n",
       "        [3.47940404],\n",
       "        [4.56535313],\n",
       "        [4.51074001],\n",
       "        [3.97320914],\n",
       "        [3.12027706],\n",
       "        [3.57694952],\n",
       "        [3.73141375],\n",
       "        [3.6786604 ],\n",
       "        [4.18467182],\n",
       "        [3.47015945],\n",
       "        [3.86132972],\n",
       "        [3.1215316 ],\n",
       "        [3.07271818],\n",
       "        [4.02344833],\n",
       "        [4.61330533],\n",
       "        [4.14577773],\n",
       "        [3.74488818],\n",
       "        [3.87130839],\n",
       "        [4.27828923],\n",
       "        [3.10609569],\n",
       "        [3.82654678],\n",
       "        [3.79907916],\n",
       "        [3.61427374],\n",
       "        [4.61681295],\n",
       "        [3.71523529],\n",
       "        [4.56822162],\n",
       "        [3.27294765],\n",
       "        [4.1209972 ],\n",
       "        [4.05277064],\n",
       "        [4.45457905],\n",
       "        [3.23372127],\n",
       "        [4.1826137 ],\n",
       "        [3.31027187],\n",
       "        [3.34600419],\n",
       "        [3.13188155],\n",
       "        [3.49347861],\n",
       "        [3.31633604],\n",
       "        [4.06142526],\n",
       "        [3.5919243 ],\n",
       "        [3.68342425],\n",
       "        [3.82212368],\n",
       "        [3.26772097],\n",
       "        [3.29907766],\n",
       "        [4.47772699],\n",
       "        [3.38724969],\n",
       "        [3.90338389],\n",
       "        [4.5169059 ],\n",
       "        [3.1880442 ],\n",
       "        [4.56385616],\n",
       "        [3.03292726],\n",
       "        [3.97014739],\n",
       "        [3.12447299],\n",
       "        [4.03092979],\n",
       "        [3.90973965],\n",
       "        [4.11201199],\n",
       "        [4.53561039],\n",
       "        [3.35416039],\n",
       "        [4.18782512],\n",
       "        [4.64190543],\n",
       "        [4.67151593],\n",
       "        [4.68257113],\n",
       "        [4.68771813],\n",
       "        [4.25553631],\n",
       "        [3.43763299],\n",
       "        [4.15161473],\n",
       "        [4.60027508],\n",
       "        [3.4068544 ],\n",
       "        [3.195112  ],\n",
       "        [3.37736257],\n",
       "        [4.48229758],\n",
       "        [3.3414336 ],\n",
       "        [4.6321641 ],\n",
       "        [4.6567378 ],\n",
       "        [4.27210978],\n",
       "        [3.76330447],\n",
       "        [3.80548918],\n",
       "        [3.93887547],\n",
       "        [3.5768478 ],\n",
       "        [4.5076613 ],\n",
       "        [4.56560234],\n",
       "        [3.75676222],\n",
       "        [3.20541447],\n",
       "        [3.61682859],\n",
       "        [4.38911078],\n",
       "        [3.66404502],\n",
       "        [4.67296204],\n",
       "        [4.33158679],\n",
       "        [4.11405146],\n",
       "        [4.4827248 ],\n",
       "        [4.03299809],\n",
       "        [3.44040992],\n",
       "        [4.24625442],\n",
       "        [3.84494273],\n",
       "        [3.44346998],\n",
       "        [4.42119307],\n",
       "        [3.12657688],\n",
       "        [3.90129695],\n",
       "        [3.20467701]])"
      ]
     },
     "execution_count": 30,
     "metadata": {},
     "output_type": "execute_result"
    }
   ],
   "source": [
    "#Predicting the values of our 'Labels(y)' using the model:\n",
    "xMat=mat(xArr)\n",
    "yMat=mat(yArr)\n",
    "yHat = xMat*ws\n",
    "yHat"
   ]
  },
  {
   "cell_type": "code",
   "execution_count": 31,
   "metadata": {},
   "outputs": [
    {
     "data": {
      "image/png": "[encoded data removed]",
      "text/plain": [
       "<Figure size 432x288 with 1 Axes>"
      ]
     },
     "metadata": {
      "needs_background": "light"
     },
     "output_type": "display_data"
    }
   ],
   "source": [
    "#Plotting the 'Actual' and 'Predicted' values with regression line:\n",
    "from matplotlib import pyplot as plt\n",
    "fig = plt.figure()\n",
    "ax = fig.add_subplot(111)\n",
    "ax.scatter(xMat[:,1].flatten().A[0], yMat.T[:,0].flatten().A[0])\n",
    "xCopy=xMat.copy()\n",
    "xCopy.sort(0)\n",
    "yHat=xCopy*ws\n",
    "ax.plot(xCopy[:,1],yHat)\n",
    "plt.show()"
   ]
  },
  {
   "cell_type": "code",
   "execution_count": 32,
   "metadata": {},
   "outputs": [
    {
     "data": {
      "text/plain": [
       "array([[1.        , 0.98647356],\n",
       "       [0.98647356, 1.        ]])"
      ]
     },
     "execution_count": 32,
     "metadata": {},
     "output_type": "execute_result"
    }
   ],
   "source": [
    "#Inspecting the correlation cofficient and inferring how well the model has predicted:\n",
    "yHat = xMat*ws\n",
    "corrcoef(yHat.T, yMat)"
   ]
  }
 ],
 "metadata": {
  "kernelspec": {
   "display_name": "Python 3",
   "language": "python",
   "name": "python3"
  },
  "language_info": {
   "codemirror_mode": {
    "name": "ipython",
    "version": 3
   },
   "file_extension": ".py",
   "mimetype": "text/x-python",
   "name": "python",
   "nbconvert_exporter": "python",
   "pygments_lexer": "ipython3",
   "version": "3.7.6"
  }
 },
 "nbformat": 4,
 "nbformat_minor": 4
}
