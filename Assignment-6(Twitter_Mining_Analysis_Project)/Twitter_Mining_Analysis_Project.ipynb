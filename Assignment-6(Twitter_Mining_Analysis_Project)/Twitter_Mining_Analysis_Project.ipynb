{
 "cells": [
  {
   "cell_type": "markdown",
   "metadata": {},
   "source": [
    "# <center>**Twitter Data Mining  and Analysis Project**</center>\n",
    "<center> <font color='skyblue'> This project concentrates on using Twitter API's in order to mine the Twitter data and analyse it </font> </center>"
   ]
  },
  {
   "cell_type": "markdown",
   "metadata": {},
   "source": [
    "<img src=\"https://s3.eu-west-2.amazonaws.com/www.blueclaw.co.uk/uploads/2014/09/twitterheader3.png\" width=\"400\" height=\"100\" align=\"center\"/>\n"
   ]
  },
  {
   "cell_type": "code",
   "execution_count": 60,
   "metadata": {},
   "outputs": [],
   "source": [
    "#Importing the 'tweepy package' which grants our 'Twitter App', the authority to access our Twitter Account:\n",
    "import tweepy\n",
    "#OAuth Interface allows us to access our Twitter Handles: \n",
    "from tweepy import OAuthHandler\n",
    "#Importing the JSON from Twitter API:\n",
    "import simplejson as json"
   ]
  },
  {
   "cell_type": "code",
   "execution_count": 61,
   "metadata": {},
   "outputs": [],
   "source": [
    "#Storing the Twitter API access credentials:\n",
    "consumer_key = 'FtSJwIG2SDKXWuuJGucKkzgEc'\n",
    "consumer_secret = 'IbaPo03sMy2LV5GYKMPt9rgbKhTEmVnmC4e976pvROPzzfJakv'\n",
    "access_token = '1267820048149671937-zTRC485QsRJSKNuCkO2ddW4Yd6cXJE'\n",
    "access_secret = 'wwke9G79SvB0bFBFV3A4KOgafOtm2jVh9PdqZIYZRk2T4'"
   ]
  },
  {
   "cell_type": "code",
   "execution_count": 62,
   "metadata": {},
   "outputs": [],
   "source": [
    "#Creating an instance of 'OAuthHandler Class':\n",
    "auth = OAuthHandler(consumer_key,consumer_secret)\n",
    "auth.set_access_token(access_token,access_secret)"
   ]
  },
  {
   "cell_type": "code",
   "execution_count": 63,
   "metadata": {},
   "outputs": [],
   "source": [
    "#Creating a variable to explore the Twitter Account:\n",
    "api = tweepy.API(auth)"
   ]
  },
  {
   "cell_type": "code",
   "execution_count": 64,
   "metadata": {},
   "outputs": [
    {
     "name": "stdout",
     "output_type": "stream",
     "text": [
      "If we can have a bday week or a bday month, why do we have only 1 day for Mother Earth? Why can’t we have a week fo… https://t.co/5tI4saf0fK\n",
      "बाप की दौलत पर घमंड करने \n",
      "में क्या ख़ुद्दारी,\n",
      "मज़ा तो तब है जब दौलत अपनी हो\n",
      "और घमण्ड बाप करें ! :)\n",
      "RT @BJP4India: केंद्रीय गृह मंत्री श्री @AmitShah 7 जून 2020 को शाम 4 बजे वीडियो कॉन्फ़्रेंसिंग के माध्यम से बिहार जनसंवाद रैली को संबोधित…\n",
      "RT @Bollyhungama: #KamalMehra aka @AnilKapoor is one of the most loved Mehra we know! Check out these throwback pictures of the Mehra's whi…\n",
      "'Do you dare' by Sandra Hearth • A beautiful poem for #WorldEnvironmentDay 🌍 https://t.co/6ctc96nA4C\n"
     ]
    }
   ],
   "source": [
    "#Exploring the Twitter Timeline/Homepage: \n",
    "for status in tweepy.Cursor(api.home_timeline).items(5):\n",
    "#Tweepy provides Cursor Interface to iterate through different objects of our Homepage.     \n",
    "    print(status.text)\n",
    "#Here we are reading the first 5 tweets of our homepage.\n",
    "#Ofcourse we can read more by changing the number in the .items() operation"
   ]
  },
  {
   "cell_type": "code",
   "execution_count": 65,
   "metadata": {},
   "outputs": [],
   "source": [
    "#Defining a function/method for custom implementations:\n",
    "def process_or_store(tweet):\n",
    "    print(json.dumps(tweet))"
   ]
  },
  {
   "cell_type": "code",
   "execution_count": 66,
   "metadata": {},
   "outputs": [
    {
     "name": "stdout",
     "output_type": "stream",
     "text": [
      "{\"created_at\": \"Fri Jun 05 18:12:10 +0000 2020\", \"id\": 1268968873199464448, \"id_str\": \"1268968873199464448\", \"text\": \"If we can have a bday week or a bday month, why do we have only 1 day for Mother Earth? Why can\\u2019t we have a week fo\\u2026 https://t.co/5tI4saf0fK\", \"truncated\": true, \"entities\": {\"hashtags\": [], \"symbols\": [], \"user_mentions\": [], \"urls\": [{\"url\": \"https://t.co/5tI4saf0fK\", \"expanded_url\": \"https://twitter.com/i/web/status/1268968873199464448\", \"display_url\": \"twitter.com/i/web/status/1\\u2026\", \"indices\": [117, 140]}]}, \"source\": \"<a href=\\\"http://media.twitter.com\\\" rel=\\\"nofollow\\\">Twitter VIT App for iOS</a>\", \"in_reply_to_status_id\": null, \"in_reply_to_status_id_str\": null, \"in_reply_to_user_id\": null, \"in_reply_to_user_id_str\": null, \"in_reply_to_screen_name\": null, \"user\": {\"id\": 94163409, \"id_str\": \"94163409\", \"name\": \"Sonakshi Sinha\", \"screen_name\": \"sonakshisinha\", \"location\": \"India\", \"description\": \"Shotgun Junior! Instagram: aslisona, Facebook: sonakshisinhaofficial\", \"url\": \"https://t.co/BwokzU2j8K\", \"entities\": {\"url\": {\"urls\": [{\"url\": \"https://t.co/BwokzU2j8K\", \"expanded_url\": \"http://www.facebook.com/sonakshisinhaofficial\", \"display_url\": \"facebook.com/sonakshisinhao\\u2026\", \"indices\": [0, 23]}]}, \"description\": {\"urls\": []}}, \"protected\": false, \"followers_count\": 15829961, \"friends_count\": 74, \"listed_count\": 6976, \"created_at\": \"Wed Dec 02 19:59:58 +0000 2009\", \"favourites_count\": 1108, \"utc_offset\": null, \"time_zone\": null, \"geo_enabled\": false, \"verified\": true, \"statuses_count\": 13627, \"lang\": null, \"contributors_enabled\": false, \"is_translator\": false, \"is_translation_enabled\": false, \"profile_background_color\": \"000000\", \"profile_background_image_url\": \"http://abs.twimg.com/images/themes/theme15/bg.png\", \"profile_background_image_url_https\": \"https://abs.twimg.com/images/themes/theme15/bg.png\", \"profile_background_tile\": false, \"profile_image_url\": \"http://pbs.twimg.com/profile_images/1215623367526502402/d5RnSorn_normal.jpg\", \"profile_image_url_https\": \"https://pbs.twimg.com/profile_images/1215623367526502402/d5RnSorn_normal.jpg\", \"profile_banner_url\": \"https://pbs.twimg.com/profile_banners/94163409/1586437432\", \"profile_link_color\": \"FF4200\", \"profile_sidebar_border_color\": \"D9310C\", \"profile_sidebar_fill_color\": \"7C1300\", \"profile_text_color\": \"F23333\", \"profile_use_background_image\": true, \"has_extended_profile\": true, \"default_profile\": false, \"default_profile_image\": false, \"following\": true, \"follow_request_sent\": false, \"notifications\": false, \"translator_type\": \"none\"}, \"geo\": null, \"coordinates\": null, \"place\": null, \"contributors\": null, \"is_quote_status\": false, \"retweet_count\": 58, \"favorite_count\": 971, \"favorited\": false, \"retweeted\": false, \"lang\": \"en\"}\n"
     ]
    }
   ],
   "source": [
    "#Converting the Tweet into 'json format'\n",
    "for status in tweepy.Cursor(api.home_timeline).items(1):\n",
    "    # Process a single status\n",
    "    process_or_store(status._json)"
   ]
  },
  {
   "cell_type": "code",
   "execution_count": 67,
   "metadata": {},
   "outputs": [
    {
     "name": "stdout",
     "output_type": "stream",
     "text": [
      "{\"id\": 130104041, \"id_str\": \"130104041\", \"name\": \"Smriti Z Irani\", \"screen_name\": \"smritiirani\", \"location\": \"India\", \"description\": \"Union Cabinet Minister for Textiles and Women & Child Development | MP Amethi Lok Sabha Constituency\", \"url\": null, \"entities\": {\"description\": {\"urls\": []}}, \"protected\": false, \"followers_count\": 11129456, \"friends_count\": 571, \"listed_count\": 3006, \"created_at\": \"Tue Apr 06 09:32:32 +0000 2010\", \"favourites_count\": 99, \"utc_offset\": null, \"time_zone\": null, \"geo_enabled\": false, \"verified\": true, \"statuses_count\": 42746, \"lang\": null, \"status\": {\"created_at\": \"Fri Jun 05 17:31:42 +0000 2020\", \"id\": 1268958689844576257, \"id_str\": \"1268958689844576257\", \"text\": \"RT @BJP4India: \\u0915\\u0947\\u0902\\u0926\\u094d\\u0930\\u0940\\u092f \\u0917\\u0943\\u0939 \\u092e\\u0902\\u0924\\u094d\\u0930\\u0940 \\u0936\\u094d\\u0930\\u0940 @AmitShah 7 \\u091c\\u0942\\u0928 2020 \\u0915\\u094b \\u0936\\u093e\\u092e 4 \\u092c\\u091c\\u0947 \\u0935\\u0940\\u0921\\u093f\\u092f\\u094b \\u0915\\u0949\\u0928\\u094d\\u092b\\u093c\\u094d\\u0930\\u0947\\u0902\\u0938\\u093f\\u0902\\u0917 \\u0915\\u0947 \\u092e\\u093e\\u0927\\u094d\\u092f\\u092e \\u0938\\u0947 \\u092c\\u093f\\u0939\\u093e\\u0930 \\u091c\\u0928\\u0938\\u0902\\u0935\\u093e\\u0926 \\u0930\\u0948\\u0932\\u0940 \\u0915\\u094b \\u0938\\u0902\\u092c\\u094b\\u0927\\u093f\\u0924\\u2026\", \"truncated\": false, \"entities\": {\"hashtags\": [], \"symbols\": [], \"user_mentions\": [{\"screen_name\": \"BJP4India\", \"name\": \"BJP\", \"id\": 207809313, \"id_str\": \"207809313\", \"indices\": [3, 13]}, {\"screen_name\": \"AmitShah\", \"name\": \"Amit Shah\", \"id\": 1447949844, \"id_str\": \"1447949844\", \"indices\": [40, 49]}], \"urls\": []}, \"source\": \"<a href=\\\"http://twitter.com/download/iphone\\\" rel=\\\"nofollow\\\">Twitter for iPhone</a>\", \"in_reply_to_status_id\": null, \"in_reply_to_status_id_str\": null, \"in_reply_to_user_id\": null, \"in_reply_to_user_id_str\": null, \"in_reply_to_screen_name\": null, \"geo\": null, \"coordinates\": null, \"place\": null, \"contributors\": null, \"retweeted_status\": {\"created_at\": \"Fri Jun 05 16:17:50 +0000 2020\", \"id\": 1268940102702596098, \"id_str\": \"1268940102702596098\", \"text\": \"\\u0915\\u0947\\u0902\\u0926\\u094d\\u0930\\u0940\\u092f \\u0917\\u0943\\u0939 \\u092e\\u0902\\u0924\\u094d\\u0930\\u0940 \\u0936\\u094d\\u0930\\u0940 @AmitShah 7 \\u091c\\u0942\\u0928 2020 \\u0915\\u094b \\u0936\\u093e\\u092e 4 \\u092c\\u091c\\u0947 \\u0935\\u0940\\u0921\\u093f\\u092f\\u094b \\u0915\\u0949\\u0928\\u094d\\u092b\\u093c\\u094d\\u0930\\u0947\\u0902\\u0938\\u093f\\u0902\\u0917 \\u0915\\u0947 \\u092e\\u093e\\u0927\\u094d\\u092f\\u092e \\u0938\\u0947 \\u092c\\u093f\\u0939\\u093e\\u0930 \\u091c\\u0928\\u0938\\u0902\\u0935\\u093e\\u0926 \\u0930\\u0948\\u0932\\u0940 \\u0915\\u094b\\u2026 https://t.co/DJgUE7qiKr\", \"truncated\": true, \"entities\": {\"hashtags\": [], \"symbols\": [], \"user_mentions\": [{\"screen_name\": \"AmitShah\", \"name\": \"Amit Shah\", \"id\": 1447949844, \"id_str\": \"1447949844\", \"indices\": [25, 34]}], \"urls\": [{\"url\": \"https://t.co/DJgUE7qiKr\", \"expanded_url\": \"https://twitter.com/i/web/status/1268940102702596098\", \"display_url\": \"twitter.com/i/web/status/1\\u2026\", \"indices\": [117, 140]}]}, \"source\": \"<a href=\\\"https://mobile.twitter.com\\\" rel=\\\"nofollow\\\">Twitter Web App</a>\", \"in_reply_to_status_id\": null, \"in_reply_to_status_id_str\": null, \"in_reply_to_user_id\": null, \"in_reply_to_user_id_str\": null, \"in_reply_to_screen_name\": null, \"geo\": null, \"coordinates\": null, \"place\": null, \"contributors\": null, \"is_quote_status\": false, \"retweet_count\": 371, \"favorite_count\": 1564, \"favorited\": false, \"retweeted\": false, \"possibly_sensitive\": false, \"lang\": \"hi\"}, \"is_quote_status\": false, \"retweet_count\": 371, \"favorite_count\": 0, \"favorited\": false, \"retweeted\": false, \"lang\": \"hi\"}, \"contributors_enabled\": false, \"is_translator\": false, \"is_translation_enabled\": false, \"profile_background_color\": \"F58D0E\", \"profile_background_image_url\": \"http://abs.twimg.com/images/themes/theme19/bg.gif\", \"profile_background_image_url_https\": \"https://abs.twimg.com/images/themes/theme19/bg.gif\", \"profile_background_tile\": false, \"profile_image_url\": \"http://pbs.twimg.com/profile_images/1249943115743576066/2epOVeZ6_normal.jpg\", \"profile_image_url_https\": \"https://pbs.twimg.com/profile_images/1249943115743576066/2epOVeZ6_normal.jpg\", \"profile_banner_url\": \"https://pbs.twimg.com/profile_banners/130104041/1568363436\", \"profile_link_color\": \"1B95E0\", \"profile_sidebar_border_color\": \"000000\", \"profile_sidebar_fill_color\": \"E1E3D6\", \"profile_text_color\": \"333333\", \"profile_use_background_image\": true, \"has_extended_profile\": false, \"default_profile\": false, \"default_profile_image\": false, \"following\": true, \"live_following\": false, \"follow_request_sent\": false, \"notifications\": false, \"muting\": false, \"blocking\": false, \"blocked_by\": false, \"translator_type\": \"none\"}\n",
      "{\"id\": 18839785, \"id_str\": \"18839785\", \"name\": \"Narendra Modi\", \"screen_name\": \"narendramodi\", \"location\": \"India\", \"description\": \"Prime Minister of India\", \"url\": \"https://t.co/zzYhUUfq6i\", \"entities\": {\"url\": {\"urls\": [{\"url\": \"https://t.co/zzYhUUfq6i\", \"expanded_url\": \"http://www.narendramodi.in\", \"display_url\": \"narendramodi.in\", \"indices\": [0, 23]}]}, \"description\": {\"urls\": []}}, \"protected\": false, \"followers_count\": 58129019, \"friends_count\": 2361, \"listed_count\": 24949, \"created_at\": \"Sat Jan 10 17:18:56 +0000 2009\", \"favourites_count\": 0, \"utc_offset\": null, \"time_zone\": null, \"geo_enabled\": false, \"verified\": true, \"statuses_count\": 26766, \"lang\": null, \"status\": {\"created_at\": \"Fri Jun 05 14:28:30 +0000 2020\", \"id\": 1268912585790951424, \"id_str\": \"1268912585790951424\", \"text\": \"Rwanda is, and will remain, an important pillar of India's relationship with Africa.\", \"truncated\": false, \"entities\": {\"hashtags\": [], \"symbols\": [], \"user_mentions\": [], \"urls\": []}, \"source\": \"<a href=\\\"http://twitter.com/download/iphone\\\" rel=\\\"nofollow\\\">Twitter for iPhone</a>\", \"in_reply_to_status_id\": 1268912582267678720, \"in_reply_to_status_id_str\": \"1268912582267678720\", \"in_reply_to_user_id\": 18839785, \"in_reply_to_user_id_str\": \"18839785\", \"in_reply_to_screen_name\": \"narendramodi\", \"geo\": null, \"coordinates\": null, \"place\": null, \"contributors\": null, \"is_quote_status\": false, \"retweet_count\": 1676, \"favorite_count\": 15440, \"favorited\": false, \"retweeted\": false, \"lang\": \"en\"}, \"contributors_enabled\": false, \"is_translator\": false, \"is_translation_enabled\": false, \"profile_background_color\": \"F4EDD4\", \"profile_background_image_url\": \"http://abs.twimg.com/images/themes/theme1/bg.png\", \"profile_background_image_url_https\": \"https://abs.twimg.com/images/themes/theme1/bg.png\", \"profile_background_tile\": false, \"profile_image_url\": \"http://pbs.twimg.com/profile_images/1249934092994375680/xX66NSZP_normal.jpg\", \"profile_image_url_https\": \"https://pbs.twimg.com/profile_images/1249934092994375680/xX66NSZP_normal.jpg\", \"profile_banner_url\": \"https://pbs.twimg.com/profile_banners/18839785/1559221352\", \"profile_link_color\": \"4E7096\", \"profile_sidebar_border_color\": \"FFFFFF\", \"profile_sidebar_fill_color\": \"D5DFED\", \"profile_text_color\": \"233863\", \"profile_use_background_image\": true, \"has_extended_profile\": true, \"default_profile\": false, \"default_profile_image\": false, \"following\": true, \"live_following\": false, \"follow_request_sent\": false, \"notifications\": false, \"muting\": false, \"blocking\": false, \"blocked_by\": false, \"translator_type\": \"regular\"}\n",
      "{\"id\": 135421739, \"id_str\": \"135421739\", \"name\": \"Sachin Tendulkar\", \"screen_name\": \"sachin_rt\", \"location\": \"\\u00dcT: 18.986431,72.823769\", \"description\": \"Proud Indian\", \"url\": \"https://t.co/mQgltaWGbQ\", \"entities\": {\"url\": {\"urls\": [{\"url\": \"https://t.co/mQgltaWGbQ\", \"expanded_url\": \"http://bit.ly/100MBApp\", \"display_url\": \"bit.ly/100MBApp\", \"indices\": [0, 23]}]}, \"description\": {\"urls\": []}}, \"protected\": false, \"followers_count\": 32663217, \"friends_count\": 79, \"listed_count\": 22392, \"created_at\": \"Wed Apr 21 07:42:23 +0000 2010\", \"favourites_count\": 156, \"utc_offset\": null, \"time_zone\": null, \"geo_enabled\": true, \"verified\": true, \"statuses_count\": 3475, \"lang\": null, \"status\": {\"created_at\": \"Fri Jun 05 13:29:12 +0000 2020\", \"id\": 1268897662129983488, \"id_str\": \"1268897662129983488\", \"text\": \"Well done team @DBSBankIndia &amp; @UNICEFIndia.\\n\\nLove it when purpose driven organisations come together \\ud83e\\udd1d for society\\u2026 https://t.co/slzBBB5RFR\", \"truncated\": true, \"entities\": {\"hashtags\": [], \"symbols\": [], \"user_mentions\": [{\"screen_name\": \"DBSBankIndia\", \"name\": \"DBS Bank India\", \"id\": 2152411651, \"id_str\": \"2152411651\", \"indices\": [15, 28]}, {\"screen_name\": \"UNICEFIndia\", \"name\": \"UNICEF India\", \"id\": 66935683, \"id_str\": \"66935683\", \"indices\": [35, 47]}], \"urls\": [{\"url\": \"https://t.co/slzBBB5RFR\", \"expanded_url\": \"https://twitter.com/i/web/status/1268897662129983488\", \"display_url\": \"twitter.com/i/web/status/1\\u2026\", \"indices\": [121, 144]}]}, \"source\": \"<a href=\\\"http://twitter.com/download/iphone\\\" rel=\\\"nofollow\\\">Twitter for iPhone</a>\", \"in_reply_to_status_id\": null, \"in_reply_to_status_id_str\": null, \"in_reply_to_user_id\": null, \"in_reply_to_user_id_str\": null, \"in_reply_to_screen_name\": null, \"geo\": null, \"coordinates\": null, \"place\": null, \"contributors\": null, \"is_quote_status\": true, \"quoted_status_id\": 1268884525368709123, \"quoted_status_id_str\": \"1268884525368709123\", \"retweet_count\": 188, \"favorite_count\": 2269, \"favorited\": false, \"retweeted\": false, \"possibly_sensitive\": false, \"lang\": \"en\"}, \"contributors_enabled\": false, \"is_translator\": false, \"is_translation_enabled\": false, \"profile_background_color\": \"C0DEED\", \"profile_background_image_url\": \"http://abs.twimg.com/images/themes/theme1/bg.png\", \"profile_background_image_url_https\": \"https://abs.twimg.com/images/themes/theme1/bg.png\", \"profile_background_tile\": false, \"profile_image_url\": \"http://pbs.twimg.com/profile_images/1260456676890742786/MzGhbLvr_normal.jpg\", \"profile_image_url_https\": \"https://pbs.twimg.com/profile_images/1260456676890742786/MzGhbLvr_normal.jpg\", \"profile_banner_url\": \"https://pbs.twimg.com/profile_banners/135421739/1578061223\", \"profile_link_color\": \"1DA1F2\", \"profile_sidebar_border_color\": \"C0DEED\", \"profile_sidebar_fill_color\": \"DDEEF6\", \"profile_text_color\": \"333333\", \"profile_use_background_image\": true, \"has_extended_profile\": true, \"default_profile\": true, \"default_profile_image\": false, \"following\": true, \"live_following\": false, \"follow_request_sent\": false, \"notifications\": false, \"muting\": false, \"blocking\": false, \"blocked_by\": false, \"translator_type\": \"regular\"}\n",
      "{\"id\": 101311381, \"id_str\": \"101311381\", \"name\": \"Shah Rukh Khan\", \"screen_name\": \"iamsrk\", \"location\": \"\", \"description\": \"\", \"url\": \"https://t.co/NJY7giyFC0\", \"entities\": {\"url\": {\"urls\": [{\"url\": \"https://t.co/NJY7giyFC0\", \"expanded_url\": \"https://twitter.com/iamsrk\", \"display_url\": \"twitter.com/iamsrk\", \"indices\": [0, 23]}]}, \"description\": {\"urls\": []}}, \"protected\": false, \"followers_count\": 40504984, \"friends_count\": 77, \"listed_count\": 28426, \"created_at\": \"Sat Jan 02 20:55:43 +0000 2010\", \"favourites_count\": 32, \"utc_offset\": null, \"time_zone\": null, \"geo_enabled\": true, \"verified\": true, \"statuses_count\": 58058, \"lang\": null, \"status\": {\"created_at\": \"Tue Jun 02 12:40:54 +0000 2020\", \"id\": 1267798344945987584, \"id_str\": \"1267798344945987584\", \"text\": \"RT @MumbaiPolice: Rakh Do Gaj Ki Doori,Na Dilon Mein Faasla\\nHum Ek hain,Jung Ek Hai.\\n\\nWhile our frontline warriors battle it out with coron\\u2026\", \"truncated\": false, \"entities\": {\"hashtags\": [], \"symbols\": [], \"user_mentions\": [{\"screen_name\": \"MumbaiPolice\", \"name\": \"Mumbai Police\", \"id\": 4573405572, \"id_str\": \"4573405572\", \"indices\": [3, 16]}], \"urls\": []}, \"source\": \"<a href=\\\"http://twitter.com/download/iphone\\\" rel=\\\"nofollow\\\">Twitter for iPhone</a>\", \"in_reply_to_status_id\": null, \"in_reply_to_status_id_str\": null, \"in_reply_to_user_id\": null, \"in_reply_to_user_id_str\": null, \"in_reply_to_screen_name\": null, \"geo\": null, \"coordinates\": null, \"place\": null, \"contributors\": null, \"retweeted_status\": {\"created_at\": \"Mon Jun 01 03:43:30 +0000 2020\", \"id\": 1267300713325002752, \"id_str\": \"1267300713325002752\", \"text\": \"Rakh Do Gaj Ki Doori,Na Dilon Mein Faasla\\nHum Ek hain,Jung Ek Hai.\\n\\nWhile our frontline warriors battle it out with\\u2026 https://t.co/kdIgrI81BP\", \"truncated\": true, \"entities\": {\"hashtags\": [], \"symbols\": [], \"user_mentions\": [], \"urls\": [{\"url\": \"https://t.co/kdIgrI81BP\", \"expanded_url\": \"https://twitter.com/i/web/status/1267300713325002752\", \"display_url\": \"twitter.com/i/web/status/1\\u2026\", \"indices\": [117, 140]}]}, \"source\": \"<a href=\\\"http://twitter.com/download/iphone\\\" rel=\\\"nofollow\\\">Twitter for iPhone</a>\", \"in_reply_to_status_id\": null, \"in_reply_to_status_id_str\": null, \"in_reply_to_user_id\": null, \"in_reply_to_user_id_str\": null, \"in_reply_to_screen_name\": null, \"geo\": null, \"coordinates\": null, \"place\": null, \"contributors\": null, \"is_quote_status\": false, \"retweet_count\": 913, \"favorite_count\": 5738, \"favorited\": false, \"retweeted\": false, \"possibly_sensitive\": false, \"lang\": \"en\"}, \"is_quote_status\": false, \"retweet_count\": 913, \"favorite_count\": 0, \"favorited\": false, \"retweeted\": false, \"lang\": \"en\"}, \"contributors_enabled\": false, \"is_translator\": false, \"is_translation_enabled\": false, \"profile_background_color\": \"022330\", \"profile_background_image_url\": \"http://abs.twimg.com/images/themes/theme15/bg.png\", \"profile_background_image_url_https\": \"https://abs.twimg.com/images/themes/theme15/bg.png\", \"profile_background_tile\": true, \"profile_image_url\": \"http://pbs.twimg.com/profile_images/1260644456367222784/lVkDg9QP_normal.jpg\", \"profile_image_url_https\": \"https://pbs.twimg.com/profile_images/1260644456367222784/lVkDg9QP_normal.jpg\", \"profile_banner_url\": \"https://pbs.twimg.com/profile_banners/101311381/1454256204\", \"profile_link_color\": \"0084B4\", \"profile_sidebar_border_color\": \"A8C7F7\", \"profile_sidebar_fill_color\": \"C0DFEC\", \"profile_text_color\": \"333333\", \"profile_use_background_image\": true, \"has_extended_profile\": false, \"default_profile\": false, \"default_profile_image\": false, \"following\": true, \"live_following\": false, \"follow_request_sent\": false, \"notifications\": false, \"muting\": false, \"blocking\": false, \"blocked_by\": false, \"translator_type\": \"regular\"}\n",
      "{\"id\": 76294950, \"id_str\": \"76294950\", \"name\": \"Anupam Kher\", \"screen_name\": \"AnupamPKher\", \"location\": \"Mumbai, India\", \"description\": \"Actor/Teacher/MotivationalSpeaker/UN Ambassador @HeForShe #NewAmsterdam\", \"url\": \"https://t.co/lG0mk6QrzD\", \"entities\": {\"url\": {\"urls\": [{\"url\": \"https://t.co/lG0mk6QrzD\", \"expanded_url\": \"http://www.theanupamkher.com\", \"display_url\": \"theanupamkher.com\", \"indices\": [0, 23]}]}, \"description\": {\"urls\": []}}, \"protected\": false, \"followers_count\": 16768595, \"friends_count\": 181, \"listed_count\": 8626, \"created_at\": \"Tue Sep 22 09:53:46 +0000 2009\", \"favourites_count\": 21098, \"utc_offset\": null, \"time_zone\": null, \"geo_enabled\": true, \"verified\": true, \"statuses_count\": 39726, \"lang\": null, \"status\": {\"created_at\": \"Fri Jun 05 17:41:30 +0000 2020\", \"id\": 1268961156288229376, \"id_str\": \"1268961156288229376\", \"text\": \"\\u092c\\u093e\\u092a \\u0915\\u0940 \\u0926\\u094c\\u0932\\u0924 \\u092a\\u0930 \\u0918\\u092e\\u0902\\u0921 \\u0915\\u0930\\u0928\\u0947 \\n\\u092e\\u0947\\u0902 \\u0915\\u094d\\u092f\\u093e \\u0916\\u093c\\u0941\\u0926\\u094d\\u0926\\u093e\\u0930\\u0940,\\n\\u092e\\u091c\\u093c\\u093e \\u0924\\u094b \\u0924\\u092c \\u0939\\u0948 \\u091c\\u092c \\u0926\\u094c\\u0932\\u0924 \\u0905\\u092a\\u0928\\u0940 \\u0939\\u094b\\n\\u0914\\u0930 \\u0918\\u092e\\u0923\\u094d\\u0921 \\u092c\\u093e\\u092a \\u0915\\u0930\\u0947\\u0902 ! :)\", \"truncated\": false, \"entities\": {\"hashtags\": [], \"symbols\": [], \"user_mentions\": [], \"urls\": []}, \"source\": \"<a href=\\\"http://twitter.com/download/iphone\\\" rel=\\\"nofollow\\\">Twitter for iPhone</a>\", \"in_reply_to_status_id\": null, \"in_reply_to_status_id_str\": null, \"in_reply_to_user_id\": null, \"in_reply_to_user_id_str\": null, \"in_reply_to_screen_name\": null, \"geo\": null, \"coordinates\": null, \"place\": null, \"contributors\": null, \"is_quote_status\": false, \"retweet_count\": 3257, \"favorite_count\": 26956, \"favorited\": false, \"retweeted\": false, \"lang\": \"hi\"}, \"contributors_enabled\": false, \"is_translator\": false, \"is_translation_enabled\": false, \"profile_background_color\": \"C6E2EE\", \"profile_background_image_url\": \"http://abs.twimg.com/images/themes/theme2/bg.gif\", \"profile_background_image_url_https\": \"https://abs.twimg.com/images/themes/theme2/bg.gif\", \"profile_background_tile\": false, \"profile_image_url\": \"http://pbs.twimg.com/profile_images/1248929933436407810/rIlg2Q2U_normal.jpg\", \"profile_image_url_https\": \"https://pbs.twimg.com/profile_images/1248929933436407810/rIlg2Q2U_normal.jpg\", \"profile_banner_url\": \"https://pbs.twimg.com/profile_banners/76294950/1561022902\", \"profile_link_color\": \"1F98C7\", \"profile_sidebar_border_color\": \"C6E2EE\", \"profile_sidebar_fill_color\": \"DAECF4\", \"profile_text_color\": \"663B12\", \"profile_use_background_image\": true, \"has_extended_profile\": true, \"default_profile\": false, \"default_profile_image\": false, \"following\": true, \"live_following\": false, \"follow_request_sent\": false, \"notifications\": false, \"muting\": false, \"blocking\": false, \"blocked_by\": false, \"translator_type\": \"none\"}\n",
      "{\"id\": 71201743, \"id_str\": \"71201743\", \"name\": \"Virat Kohli\", \"screen_name\": \"imVkohli\", \"location\": \"\", \"description\": \"The Official twitter account of Virat Kohli. Indian cricketer, gamer, car lover, loves soccer and an enthusiast.\", \"url\": \"https://t.co/jwlGXSnXM9\", \"entities\": {\"url\": {\"urls\": [{\"url\": \"https://t.co/jwlGXSnXM9\", \"expanded_url\": \"http://www.instagram.com/virat.kohli\", \"display_url\": \"instagram.com/virat.kohli\", \"indices\": [0, 23]}]}, \"description\": {\"urls\": []}}, \"protected\": false, \"followers_count\": 35690411, \"friends_count\": 60, \"listed_count\": 7673, \"created_at\": \"Thu Sep 03 07:57:30 +0000 2009\", \"favourites_count\": 193, \"utc_offset\": null, \"time_zone\": null, \"geo_enabled\": true, \"verified\": true, \"statuses_count\": 2133, \"lang\": null, \"status\": {\"created_at\": \"Wed Jun 03 13:36:21 +0000 2020\", \"id\": 1268174685205745664, \"id_str\": \"1268174685205745664\", \"text\": \"Appalled to hear about what happened in Kerala. Let's treat our animals with love and bring an end to these cowardl\\u2026 https://t.co/kkW6EAP2nB\", \"truncated\": true, \"entities\": {\"hashtags\": [], \"symbols\": [], \"user_mentions\": [], \"urls\": [{\"url\": \"https://t.co/kkW6EAP2nB\", \"expanded_url\": \"https://twitter.com/i/web/status/1268174685205745664\", \"display_url\": \"twitter.com/i/web/status/1\\u2026\", \"indices\": [117, 140]}]}, \"source\": \"<a href=\\\"http://twitter.com/download/android\\\" rel=\\\"nofollow\\\">Twitter for Android</a>\", \"in_reply_to_status_id\": null, \"in_reply_to_status_id_str\": null, \"in_reply_to_user_id\": null, \"in_reply_to_user_id_str\": null, \"in_reply_to_screen_name\": null, \"geo\": null, \"coordinates\": null, \"place\": null, \"contributors\": null, \"is_quote_status\": false, \"retweet_count\": 24378, \"favorite_count\": 197420, \"favorited\": false, \"retweeted\": false, \"possibly_sensitive\": false, \"lang\": \"en\"}, \"contributors_enabled\": false, \"is_translator\": false, \"is_translation_enabled\": false, \"profile_background_color\": \"022330\", \"profile_background_image_url\": \"http://abs.twimg.com/images/themes/theme15/bg.png\", \"profile_background_image_url_https\": \"https://abs.twimg.com/images/themes/theme15/bg.png\", \"profile_background_tile\": true, \"profile_image_url\": \"http://pbs.twimg.com/profile_images/1259798089004613632/nkf-P92__normal.jpg\", \"profile_image_url_https\": \"https://pbs.twimg.com/profile_images/1259798089004613632/nkf-P92__normal.jpg\", \"profile_link_color\": \"0084B4\", \"profile_sidebar_border_color\": \"FFFFFF\", \"profile_sidebar_fill_color\": \"C0DFEC\", \"profile_text_color\": \"333333\", \"profile_use_background_image\": true, \"has_extended_profile\": true, \"default_profile\": false, \"default_profile_image\": false, \"following\": true, \"live_following\": false, \"follow_request_sent\": false, \"notifications\": false, \"muting\": false, \"blocking\": false, \"blocked_by\": false, \"translator_type\": \"regular\"}\n",
      "{\"id\": 1346439824, \"id_str\": \"1346439824\", \"name\": \"Rajnath Singh\", \"screen_name\": \"rajnathsingh\", \"location\": \"\", \"description\": \"\\u0930\\u0915\\u094d\\u0937\\u093e \\u092e\\u0902\\u0924\\u094d\\u0930\\u0940, Defence Minister of India\", \"url\": \"https://t.co/vi2hmSIqbJ\", \"entities\": {\"url\": {\"urls\": [{\"url\": \"https://t.co/vi2hmSIqbJ\", \"expanded_url\": \"http://www.rajnathsingh.in\", \"display_url\": \"rajnathsingh.in\", \"indices\": [0, 23]}]}, \"description\": {\"urls\": []}}, \"protected\": false, \"followers_count\": 17326034, \"friends_count\": 392, \"listed_count\": 2897, \"created_at\": \"Fri Apr 12 09:46:07 +0000 2013\", \"favourites_count\": 480, \"utc_offset\": null, \"time_zone\": null, \"geo_enabled\": true, \"verified\": true, \"statuses_count\": 5707, \"lang\": null, \"status\": {\"created_at\": \"Fri Jun 05 07:56:18 +0000 2020\", \"id\": 1268813884837654530, \"id_str\": \"1268813884837654530\", \"text\": \"Let us rededicate ourselves to protect and improve the environment which includes our forests, wildlife and water b\\u2026 https://t.co/R21bGSWHsE\", \"truncated\": true, \"entities\": {\"hashtags\": [], \"symbols\": [], \"user_mentions\": [], \"urls\": [{\"url\": \"https://t.co/R21bGSWHsE\", \"expanded_url\": \"https://twitter.com/i/web/status/1268813884837654530\", \"display_url\": \"twitter.com/i/web/status/1\\u2026\", \"indices\": [117, 140]}]}, \"source\": \"<a href=\\\"http://twitter.com/download/iphone\\\" rel=\\\"nofollow\\\">Twitter for iPhone</a>\", \"in_reply_to_status_id\": null, \"in_reply_to_status_id_str\": null, \"in_reply_to_user_id\": null, \"in_reply_to_user_id_str\": null, \"in_reply_to_screen_name\": null, \"geo\": null, \"coordinates\": null, \"place\": null, \"contributors\": null, \"is_quote_status\": false, \"retweet_count\": 489, \"favorite_count\": 4306, \"favorited\": false, \"retweeted\": false, \"lang\": \"en\"}, \"contributors_enabled\": false, \"is_translator\": false, \"is_translation_enabled\": false, \"profile_background_color\": \"B87B00\", \"profile_background_image_url\": \"http://abs.twimg.com/images/themes/theme1/bg.png\", \"profile_background_image_url_https\": \"https://abs.twimg.com/images/themes/theme1/bg.png\", \"profile_background_tile\": false, \"profile_image_url\": \"http://pbs.twimg.com/profile_images/1251443637491122176/x5OH_3pf_normal.jpg\", \"profile_image_url_https\": \"https://pbs.twimg.com/profile_images/1251443637491122176/x5OH_3pf_normal.jpg\", \"profile_banner_url\": \"https://pbs.twimg.com/profile_banners/1346439824/1570696769\", \"profile_link_color\": \"B87B00\", \"profile_sidebar_border_color\": \"FFFFFF\", \"profile_sidebar_fill_color\": \"DDEEF6\", \"profile_text_color\": \"333333\", \"profile_use_background_image\": true, \"has_extended_profile\": false, \"default_profile\": false, \"default_profile_image\": false, \"following\": true, \"live_following\": false, \"follow_request_sent\": false, \"notifications\": false, \"muting\": false, \"blocking\": false, \"blocked_by\": false, \"translator_type\": \"none\"}\n",
      "{\"id\": 1492538024, \"id_str\": \"1492538024\", \"name\": \"Kapil Sharma\", \"screen_name\": \"KapilSharmaK9\", \"location\": \"Mumbai, India\", \"description\": \"Actor, who loves to make ppl laugh \\ud83e\\udd17\", \"url\": null, \"entities\": {\"description\": {\"urls\": []}}, \"protected\": false, \"followers_count\": 16086355, \"friends_count\": 550, \"listed_count\": 2161, \"created_at\": \"Sat Jun 08 10:19:55 +0000 2013\", \"favourites_count\": 1772, \"utc_offset\": null, \"time_zone\": null, \"geo_enabled\": true, \"verified\": true, \"statuses_count\": 9743, \"lang\": null, \"status\": {\"created_at\": \"Wed Jun 03 14:18:11 +0000 2020\", \"id\": 1268185214569701377, \"id_str\": \"1268185214569701377\", \"text\": \"Ministry of Law and Justice, : Justice for our Voiceless friends - Sign the Petition! https://t.co/wHCZ3HwH1T via @ChangeOrg_India\", \"truncated\": false, \"entities\": {\"hashtags\": [], \"symbols\": [], \"user_mentions\": [{\"screen_name\": \"ChangeOrg_India\", \"name\": \"Change.org India\", \"id\": 338191619, \"id_str\": \"338191619\", \"indices\": [114, 130]}], \"urls\": [{\"url\": \"https://t.co/wHCZ3HwH1T\", \"expanded_url\": \"http://chng.it/DvWGpPJv\", \"display_url\": \"chng.it/DvWGpPJv\", \"indices\": [86, 109]}]}, \"source\": \"<a href=\\\"http://twitter.com/download/iphone\\\" rel=\\\"nofollow\\\">Twitter for iPhone</a>\", \"in_reply_to_status_id\": null, \"in_reply_to_status_id_str\": null, \"in_reply_to_user_id\": null, \"in_reply_to_user_id_str\": null, \"in_reply_to_screen_name\": null, \"geo\": null, \"coordinates\": null, \"place\": null, \"contributors\": null, \"is_quote_status\": false, \"retweet_count\": 2457, \"favorite_count\": 24372, \"favorited\": false, \"retweeted\": false, \"possibly_sensitive\": false, \"lang\": \"en\"}, \"contributors_enabled\": false, \"is_translator\": false, \"is_translation_enabled\": false, \"profile_background_color\": \"94DDF7\", \"profile_background_image_url\": \"http://abs.twimg.com/images/themes/theme1/bg.png\", \"profile_background_image_url_https\": \"https://abs.twimg.com/images/themes/theme1/bg.png\", \"profile_background_tile\": false, \"profile_image_url\": \"http://pbs.twimg.com/profile_images/1152215560869953536/mSjwFhbF_normal.jpg\", \"profile_image_url_https\": \"https://pbs.twimg.com/profile_images/1152215560869953536/mSjwFhbF_normal.jpg\", \"profile_banner_url\": \"https://pbs.twimg.com/profile_banners/1492538024/1572871470\", \"profile_link_color\": \"B58694\", \"profile_sidebar_border_color\": \"000000\", \"profile_sidebar_fill_color\": \"DDEEF6\", \"profile_text_color\": \"333333\", \"profile_use_background_image\": true, \"has_extended_profile\": false, \"default_profile\": false, \"default_profile_image\": false, \"following\": true, \"live_following\": false, \"follow_request_sent\": false, \"notifications\": false, \"muting\": false, \"blocking\": false, \"blocked_by\": false, \"translator_type\": \"none\"}\n",
      "{\"id\": 1652526218, \"id_str\": \"1652526218\", \"name\": \"Anil Kapoor\", \"screen_name\": \"AnilKapoor\", \"location\": \"Mumbai, India\", \"description\": \"Actor, Producer, Son, Husband & a Father ...https://t.co/1SMv0xjFeD\", \"url\": \"https://t.co/Z9ZKYor7Bh\", \"entities\": {\"url\": {\"urls\": [{\"url\": \"https://t.co/Z9ZKYor7Bh\", \"expanded_url\": \"https://www.facebook.com/anilskapoor/\", \"display_url\": \"facebook.com/anilskapoor/\", \"indices\": [0, 23]}]}, \"description\": {\"urls\": [{\"url\": \"https://t.co/1SMv0xjFeD\", \"expanded_url\": \"http://Instagram.com/anilskapoor/\", \"display_url\": \"Instagram.com/anilskapoor/\", \"indices\": [44, 67]}]}}, \"protected\": false, \"followers_count\": 5765150, \"friends_count\": 80, \"listed_count\": 1031, \"created_at\": \"Wed Aug 07 09:36:43 +0000 2013\", \"favourites_count\": 2395, \"utc_offset\": null, \"time_zone\": null, \"geo_enabled\": true, \"verified\": true, \"statuses_count\": 7920, \"lang\": null, \"status\": {\"created_at\": \"Fri Jun 05 15:37:43 +0000 2020\", \"id\": 1268930006769643520, \"id_str\": \"1268930006769643520\", \"text\": \"RT @Bollyhungama: #KamalMehra aka @AnilKapoor is one of the most loved Mehra we know! Check out these throwback pictures of the Mehra's whi\\u2026\", \"truncated\": false, \"entities\": {\"hashtags\": [{\"text\": \"KamalMehra\", \"indices\": [18, 29]}], \"symbols\": [], \"user_mentions\": [{\"screen_name\": \"Bollyhungama\", \"name\": \"BollyHungama\", \"id\": 41549052, \"id_str\": \"41549052\", \"indices\": [3, 16]}, {\"screen_name\": \"AnilKapoor\", \"name\": \"Anil Kapoor\", \"id\": 1652526218, \"id_str\": \"1652526218\", \"indices\": [34, 45]}], \"urls\": []}, \"source\": \"<a href=\\\"http://twitter.com/download/iphone\\\" rel=\\\"nofollow\\\">Twitter for iPhone</a>\", \"in_reply_to_status_id\": null, \"in_reply_to_status_id_str\": null, \"in_reply_to_user_id\": null, \"in_reply_to_user_id_str\": null, \"in_reply_to_screen_name\": null, \"geo\": null, \"coordinates\": null, \"place\": null, \"contributors\": null, \"retweeted_status\": {\"created_at\": \"Fri Jun 05 14:30:01 +0000 2020\", \"id\": 1268912966222532608, \"id_str\": \"1268912966222532608\", \"text\": \"#KamalMehra aka @AnilKapoor is one of the most loved Mehra we know! Check out these throwback pictures of the Mehra\\u2026 https://t.co/nZS7pd3TZp\", \"truncated\": true, \"entities\": {\"hashtags\": [{\"text\": \"KamalMehra\", \"indices\": [0, 11]}], \"symbols\": [], \"user_mentions\": [{\"screen_name\": \"AnilKapoor\", \"name\": \"Anil Kapoor\", \"id\": 1652526218, \"id_str\": \"1652526218\", \"indices\": [16, 27]}], \"urls\": [{\"url\": \"https://t.co/nZS7pd3TZp\", \"expanded_url\": \"https://twitter.com/i/web/status/1268912966222532608\", \"display_url\": \"twitter.com/i/web/status/1\\u2026\", \"indices\": [117, 140]}]}, \"source\": \"<a href=\\\"https://about.twitter.com/products/tweetdeck\\\" rel=\\\"nofollow\\\">TweetDeck</a>\", \"in_reply_to_status_id\": null, \"in_reply_to_status_id_str\": null, \"in_reply_to_user_id\": null, \"in_reply_to_user_id_str\": null, \"in_reply_to_screen_name\": null, \"geo\": null, \"coordinates\": null, \"place\": null, \"contributors\": null, \"is_quote_status\": false, \"retweet_count\": 13, \"favorite_count\": 309, \"favorited\": false, \"retweeted\": false, \"possibly_sensitive\": false, \"lang\": \"en\"}, \"is_quote_status\": false, \"retweet_count\": 13, \"favorite_count\": 0, \"favorited\": false, \"retweeted\": false, \"lang\": \"en\"}, \"contributors_enabled\": false, \"is_translator\": false, \"is_translation_enabled\": false, \"profile_background_color\": \"131516\", \"profile_background_image_url\": \"http://abs.twimg.com/images/themes/theme14/bg.gif\", \"profile_background_image_url_https\": \"https://abs.twimg.com/images/themes/theme14/bg.gif\", \"profile_background_tile\": true, \"profile_image_url\": \"http://pbs.twimg.com/profile_images/1232951548071702530/m9Jn86lP_normal.jpg\", \"profile_image_url_https\": \"https://pbs.twimg.com/profile_images/1232951548071702530/m9Jn86lP_normal.jpg\", \"profile_banner_url\": \"https://pbs.twimg.com/profile_banners/1652526218/1584966558\", \"profile_link_color\": \"009999\", \"profile_sidebar_border_color\": \"FFFFFF\", \"profile_sidebar_fill_color\": \"EFEFEF\", \"profile_text_color\": \"333333\", \"profile_use_background_image\": true, \"has_extended_profile\": false, \"default_profile\": false, \"default_profile_image\": false, \"following\": true, \"live_following\": false, \"follow_request_sent\": false, \"notifications\": false, \"muting\": false, \"blocking\": false, \"blocked_by\": false, \"translator_type\": \"none\"}\n",
      "{\"id\": 132385468, \"id_str\": \"132385468\", \"name\": \"Salman Khan\", \"screen_name\": \"BeingSalmanKhan\", \"location\": \"MUMBAI\", \"description\": \"Film actor, artist, painter, humanitarian\", \"url\": null, \"entities\": {\"description\": {\"urls\": []}}, \"protected\": false, \"followers_count\": 40988558, \"friends_count\": 26, \"listed_count\": 28440, \"created_at\": \"Tue Apr 13 02:56:21 +0000 2010\", \"favourites_count\": 1, \"utc_offset\": null, \"time_zone\": null, \"geo_enabled\": false, \"verified\": true, \"statuses_count\": 42866, \"lang\": null, \"status\": {\"created_at\": \"Mon Jun 01 07:25:38 +0000 2020\", \"id\": 1267356615490985984, \"id_str\": \"1267356615490985984\", \"text\": \"Wajid Vil always love, respect, remember n miss u as a person n ur talent, Love u n may your beautiful soul rest in peace ...\", \"truncated\": false, \"entities\": {\"hashtags\": [], \"symbols\": [], \"user_mentions\": [], \"urls\": []}, \"source\": \"<a href=\\\"http://twitter.com/download/android\\\" rel=\\\"nofollow\\\">Twitter for Android</a>\", \"in_reply_to_status_id\": null, \"in_reply_to_status_id_str\": null, \"in_reply_to_user_id\": null, \"in_reply_to_user_id_str\": null, \"in_reply_to_screen_name\": null, \"geo\": null, \"coordinates\": null, \"place\": null, \"contributors\": null, \"is_quote_status\": false, \"retweet_count\": 11508, \"favorite_count\": 135542, \"favorited\": false, \"retweeted\": false, \"lang\": \"en\"}, \"contributors_enabled\": false, \"is_translator\": false, \"is_translation_enabled\": false, \"profile_background_color\": \"C0DEED\", \"profile_background_image_url\": \"http://abs.twimg.com/images/themes/theme1/bg.png\", \"profile_background_image_url_https\": \"https://abs.twimg.com/images/themes/theme1/bg.png\", \"profile_background_tile\": false, \"profile_image_url\": \"http://pbs.twimg.com/profile_images/1268824832424022017/vUx5TGw7_normal.jpg\", \"profile_image_url_https\": \"https://pbs.twimg.com/profile_images/1268824832424022017/vUx5TGw7_normal.jpg\", \"profile_banner_url\": \"https://pbs.twimg.com/profile_banners/132385468/1590425639\", \"profile_link_color\": \"1DA1F2\", \"profile_sidebar_border_color\": \"C0DEED\", \"profile_sidebar_fill_color\": \"DDEEF6\", \"profile_text_color\": \"333333\", \"profile_use_background_image\": true, \"has_extended_profile\": false, \"default_profile\": true, \"default_profile_image\": false, \"following\": true, \"live_following\": false, \"follow_request_sent\": false, \"notifications\": false, \"muting\": false, \"blocking\": false, \"blocked_by\": false, \"translator_type\": \"regular\"}\n"
     ]
    },
    {
     "name": "stdout",
     "output_type": "stream",
     "text": [
      "{\"id\": 261173793, \"id_str\": \"261173793\", \"name\": \"Prajakta Koli\", \"screen_name\": \"iamMostlySane\", \"location\": \"Mumbai\", \"description\": \"YouTuber. Hogger. Pyjama-lover.                 \\nBusiness - iammostlysane@gmail.com\", \"url\": \"https://t.co/zhBcpRzptk\", \"entities\": {\"url\": {\"urls\": [{\"url\": \"https://t.co/zhBcpRzptk\", \"expanded_url\": \"http://youtube.com/c/mostlysane\", \"display_url\": \"youtube.com/c/mostlysane\", \"indices\": [0, 23]}]}, \"description\": {\"urls\": []}}, \"protected\": false, \"followers_count\": 235388, \"friends_count\": 438, \"listed_count\": 52, \"created_at\": \"Sat Mar 05 11:51:08 +0000 2011\", \"favourites_count\": 9257, \"utc_offset\": null, \"time_zone\": null, \"geo_enabled\": true, \"verified\": true, \"statuses_count\": 5234, \"lang\": null, \"status\": {\"created_at\": \"Fri Jun 05 06:18:12 +0000 2020\", \"id\": 1268789196409503744, \"id_str\": \"1268789196409503744\", \"text\": \"Aaayyye!! \\ud83e\\udd73\\ud83e\\udd73\\ud83e\\udd73\\ud83e\\udd73\\ud83e\\udd73\\ud83e\\udd17\\u2764\\ufe0f https://t.co/eJFVTiqOvn\", \"truncated\": false, \"entities\": {\"hashtags\": [], \"symbols\": [], \"user_mentions\": [], \"urls\": [{\"url\": \"https://t.co/eJFVTiqOvn\", \"expanded_url\": \"https://twitter.com/tsot7sam/status/1268782163950010369\", \"display_url\": \"twitter.com/tsot7sam/statu\\u2026\", \"indices\": [19, 42]}]}, \"source\": \"<a href=\\\"http://twitter.com/download/android\\\" rel=\\\"nofollow\\\">Twitter for Android</a>\", \"in_reply_to_status_id\": null, \"in_reply_to_status_id_str\": null, \"in_reply_to_user_id\": null, \"in_reply_to_user_id_str\": null, \"in_reply_to_screen_name\": null, \"geo\": null, \"coordinates\": null, \"place\": null, \"contributors\": null, \"is_quote_status\": true, \"quoted_status_id\": 1268782163950010369, \"quoted_status_id_str\": \"1268782163950010369\", \"retweet_count\": 7, \"favorite_count\": 392, \"favorited\": false, \"retweeted\": false, \"possibly_sensitive\": false, \"lang\": \"und\"}, \"contributors_enabled\": false, \"is_translator\": false, \"is_translation_enabled\": false, \"profile_background_color\": \"1A1B1F\", \"profile_background_image_url\": \"http://abs.twimg.com/images/themes/theme9/bg.gif\", \"profile_background_image_url_https\": \"https://abs.twimg.com/images/themes/theme9/bg.gif\", \"profile_background_tile\": false, \"profile_image_url\": \"http://pbs.twimg.com/profile_images/1130513717823598592/MKhcAT03_normal.jpg\", \"profile_image_url_https\": \"https://pbs.twimg.com/profile_images/1130513717823598592/MKhcAT03_normal.jpg\", \"profile_banner_url\": \"https://pbs.twimg.com/profile_banners/261173793/1526137116\", \"profile_link_color\": \"2FC2EF\", \"profile_sidebar_border_color\": \"181A1E\", \"profile_sidebar_fill_color\": \"252429\", \"profile_text_color\": \"666666\", \"profile_use_background_image\": true, \"has_extended_profile\": true, \"default_profile\": false, \"default_profile_image\": false, \"following\": true, \"live_following\": false, \"follow_request_sent\": false, \"notifications\": false, \"muting\": false, \"blocking\": false, \"blocked_by\": false, \"translator_type\": \"none\"}\n",
      "{\"id\": 94163409, \"id_str\": \"94163409\", \"name\": \"Sonakshi Sinha\", \"screen_name\": \"sonakshisinha\", \"location\": \"India\", \"description\": \"Shotgun Junior! Instagram: aslisona, Facebook: sonakshisinhaofficial\", \"url\": \"https://t.co/BwokzU2j8K\", \"entities\": {\"url\": {\"urls\": [{\"url\": \"https://t.co/BwokzU2j8K\", \"expanded_url\": \"http://www.facebook.com/sonakshisinhaofficial\", \"display_url\": \"facebook.com/sonakshisinhao\\u2026\", \"indices\": [0, 23]}]}, \"description\": {\"urls\": []}}, \"protected\": false, \"followers_count\": 15829961, \"friends_count\": 74, \"listed_count\": 6976, \"created_at\": \"Wed Dec 02 19:59:58 +0000 2009\", \"favourites_count\": 1108, \"utc_offset\": null, \"time_zone\": null, \"geo_enabled\": false, \"verified\": true, \"statuses_count\": 13627, \"lang\": null, \"status\": {\"created_at\": \"Fri Jun 05 18:12:10 +0000 2020\", \"id\": 1268968873199464448, \"id_str\": \"1268968873199464448\", \"text\": \"If we can have a bday week or a bday month, why do we have only 1 day for Mother Earth? Why can\\u2019t we have a week fo\\u2026 https://t.co/5tI4saf0fK\", \"truncated\": true, \"entities\": {\"hashtags\": [], \"symbols\": [], \"user_mentions\": [], \"urls\": [{\"url\": \"https://t.co/5tI4saf0fK\", \"expanded_url\": \"https://twitter.com/i/web/status/1268968873199464448\", \"display_url\": \"twitter.com/i/web/status/1\\u2026\", \"indices\": [117, 140]}]}, \"source\": \"<a href=\\\"http://media.twitter.com\\\" rel=\\\"nofollow\\\">Twitter VIT App for iOS</a>\", \"in_reply_to_status_id\": null, \"in_reply_to_status_id_str\": null, \"in_reply_to_user_id\": null, \"in_reply_to_user_id_str\": null, \"in_reply_to_screen_name\": null, \"geo\": null, \"coordinates\": null, \"place\": null, \"contributors\": null, \"is_quote_status\": false, \"retweet_count\": 58, \"favorite_count\": 972, \"favorited\": false, \"retweeted\": false, \"lang\": \"en\"}, \"contributors_enabled\": false, \"is_translator\": false, \"is_translation_enabled\": false, \"profile_background_color\": \"000000\", \"profile_background_image_url\": \"http://abs.twimg.com/images/themes/theme15/bg.png\", \"profile_background_image_url_https\": \"https://abs.twimg.com/images/themes/theme15/bg.png\", \"profile_background_tile\": false, \"profile_image_url\": \"http://pbs.twimg.com/profile_images/1215623367526502402/d5RnSorn_normal.jpg\", \"profile_image_url_https\": \"https://pbs.twimg.com/profile_images/1215623367526502402/d5RnSorn_normal.jpg\", \"profile_banner_url\": \"https://pbs.twimg.com/profile_banners/94163409/1586437432\", \"profile_link_color\": \"FF4200\", \"profile_sidebar_border_color\": \"D9310C\", \"profile_sidebar_fill_color\": \"7C1300\", \"profile_text_color\": \"F23333\", \"profile_use_background_image\": true, \"has_extended_profile\": true, \"default_profile\": false, \"default_profile_image\": false, \"following\": true, \"live_following\": false, \"follow_request_sent\": false, \"notifications\": false, \"muting\": false, \"blocking\": false, \"blocked_by\": false, \"translator_type\": \"none\"}\n",
      "{\"id\": 1668063794, \"id_str\": \"1668063794\", \"name\": \"Bhuvan Bam\", \"screen_name\": \"Bhuvan_Bam\", \"location\": \"\", \"description\": \"Youtuber at BB Ki Vines, actor, musician and ambitious ladka!\", \"url\": \"https://t.co/DarfKw8rx7\", \"entities\": {\"url\": {\"urls\": [{\"url\": \"https://t.co/DarfKw8rx7\", \"expanded_url\": \"https://www.youtube.com/c/bbkivines\", \"display_url\": \"youtube.com/c/bbkivines\", \"indices\": [0, 23]}]}, \"description\": {\"urls\": []}}, \"protected\": false, \"followers_count\": 3223677, \"friends_count\": 112, \"listed_count\": 165, \"created_at\": \"Tue Aug 13 15:12:29 +0000 2013\", \"favourites_count\": 2106, \"utc_offset\": null, \"time_zone\": null, \"geo_enabled\": true, \"verified\": true, \"statuses_count\": 5591, \"lang\": null, \"status\": {\"created_at\": \"Fri Jun 05 07:22:19 +0000 2020\", \"id\": 1268805332140060673, \"id_str\": \"1268805332140060673\", \"text\": \"@MrDeepakGiri Narak Nagar\", \"truncated\": false, \"entities\": {\"hashtags\": [], \"symbols\": [], \"user_mentions\": [{\"screen_name\": \"MrDeepakGiri\", \"name\": \"Deepak Giri\", \"id\": 111213144, \"id_str\": \"111213144\", \"indices\": [0, 13]}], \"urls\": []}, \"source\": \"<a href=\\\"http://twitter.com/download/iphone\\\" rel=\\\"nofollow\\\">Twitter for iPhone</a>\", \"in_reply_to_status_id\": 1268805215882362881, \"in_reply_to_status_id_str\": \"1268805215882362881\", \"in_reply_to_user_id\": 111213144, \"in_reply_to_user_id_str\": \"111213144\", \"in_reply_to_screen_name\": \"MrDeepakGiri\", \"geo\": null, \"coordinates\": null, \"place\": null, \"contributors\": null, \"is_quote_status\": false, \"retweet_count\": 6, \"favorite_count\": 255, \"favorited\": false, \"retweeted\": false, \"lang\": \"eu\"}, \"contributors_enabled\": false, \"is_translator\": false, \"is_translation_enabled\": false, \"profile_background_color\": \"FFCC4D\", \"profile_background_image_url\": \"http://abs.twimg.com/images/themes/theme1/bg.png\", \"profile_background_image_url_https\": \"https://abs.twimg.com/images/themes/theme1/bg.png\", \"profile_background_tile\": false, \"profile_image_url\": \"http://pbs.twimg.com/profile_images/856580774220357634/H35WMMje_normal.jpg\", \"profile_image_url_https\": \"https://pbs.twimg.com/profile_images/856580774220357634/H35WMMje_normal.jpg\", \"profile_banner_url\": \"https://pbs.twimg.com/profile_banners/1668063794/1585884075\", \"profile_link_color\": \"4A913C\", \"profile_sidebar_border_color\": \"FFFFFF\", \"profile_sidebar_fill_color\": \"DDEEF6\", \"profile_text_color\": \"333333\", \"profile_use_background_image\": true, \"has_extended_profile\": true, \"default_profile\": false, \"default_profile_image\": false, \"following\": true, \"live_following\": false, \"follow_request_sent\": false, \"notifications\": false, \"muting\": false, \"blocking\": false, \"blocked_by\": false, \"translator_type\": \"none\"}\n",
      "{\"id\": 54829997, \"id_str\": \"54829997\", \"name\": \"Anushka Sharma\", \"screen_name\": \"AnushkaSharma\", \"location\": \"\", \"description\": \"illegitimi non carborundum . Anyone spreading hatred will be blocked .\", \"url\": \"https://t.co/iqUpXFleWm\", \"entities\": {\"url\": {\"urls\": [{\"url\": \"https://t.co/iqUpXFleWm\", \"expanded_url\": \"http://www.facebook.com/AnushkaSharmaOfficial/\", \"display_url\": \"facebook.com/AnushkaSharmaO\\u2026\", \"indices\": [0, 23]}]}, \"description\": {\"urls\": []}}, \"protected\": false, \"followers_count\": 21465655, \"friends_count\": 126, \"listed_count\": 6212, \"created_at\": \"Wed Jul 08 07:30:37 +0000 2009\", \"favourites_count\": 488, \"utc_offset\": null, \"time_zone\": null, \"geo_enabled\": false, \"verified\": true, \"statuses_count\": 4593, \"lang\": null, \"status\": {\"created_at\": \"Tue Jun 02 12:38:48 +0000 2020\", \"id\": 1267797814635114499, \"id_str\": \"1267797814635114499\", \"text\": \"This World Environment Day, my #OneWishForTheEarth would be that all of us should treat all the plant and animals s\\u2026 https://t.co/DUHQtoBGQl\", \"truncated\": true, \"entities\": {\"hashtags\": [{\"text\": \"OneWishForTheEarth\", \"indices\": [31, 50]}], \"symbols\": [], \"user_mentions\": [], \"urls\": [{\"url\": \"https://t.co/DUHQtoBGQl\", \"expanded_url\": \"https://twitter.com/i/web/status/1267797814635114499\", \"display_url\": \"twitter.com/i/web/status/1\\u2026\", \"indices\": [117, 140]}]}, \"source\": \"<a href=\\\"http://twitter.com/download/android\\\" rel=\\\"nofollow\\\">Twitter for Android</a>\", \"in_reply_to_status_id\": null, \"in_reply_to_status_id_str\": null, \"in_reply_to_user_id\": null, \"in_reply_to_user_id_str\": null, \"in_reply_to_screen_name\": null, \"geo\": null, \"coordinates\": null, \"place\": null, \"contributors\": null, \"is_quote_status\": false, \"retweet_count\": 536, \"favorite_count\": 12338, \"favorited\": false, \"retweeted\": false, \"possibly_sensitive\": false, \"lang\": \"en\"}, \"contributors_enabled\": false, \"is_translator\": false, \"is_translation_enabled\": false, \"profile_background_color\": \"022330\", \"profile_background_image_url\": \"http://abs.twimg.com/images/themes/theme15/bg.png\", \"profile_background_image_url_https\": \"https://abs.twimg.com/images/themes/theme15/bg.png\", \"profile_background_tile\": false, \"profile_image_url\": \"http://pbs.twimg.com/profile_images/1268505131018080256/lxJqMLhQ_normal.jpg\", \"profile_image_url_https\": \"https://pbs.twimg.com/profile_images/1268505131018080256/lxJqMLhQ_normal.jpg\", \"profile_banner_url\": \"https://pbs.twimg.com/profile_banners/54829997/1573795239\", \"profile_link_color\": \"0084B4\", \"profile_sidebar_border_color\": \"A8C7F7\", \"profile_sidebar_fill_color\": \"C0DFEC\", \"profile_text_color\": \"333333\", \"profile_use_background_image\": true, \"has_extended_profile\": false, \"default_profile\": false, \"default_profile_image\": false, \"following\": true, \"live_following\": false, \"follow_request_sent\": false, \"notifications\": false, \"muting\": false, \"blocking\": false, \"blocked_by\": false, \"translator_type\": \"none\"}\n",
      "{\"id\": 31348594, \"id_str\": \"31348594\", \"name\": \"Akshay Kumar\", \"screen_name\": \"akshaykumar\", \"location\": \"\", \"description\": \"\", \"url\": \"https://t.co/nVpOquvNp0\", \"entities\": {\"url\": {\"urls\": [{\"url\": \"https://t.co/nVpOquvNp0\", \"expanded_url\": \"http://www.facebook.com/akshaykumarofficial\", \"display_url\": \"facebook.com/akshaykumaroff\\u2026\", \"indices\": [0, 23]}]}, \"description\": {\"urls\": []}}, \"protected\": false, \"followers_count\": 36718901, \"friends_count\": 27, \"listed_count\": 14749, \"created_at\": \"Wed Apr 15 05:23:19 +0000 2009\", \"favourites_count\": 1977, \"utc_offset\": null, \"time_zone\": null, \"geo_enabled\": false, \"verified\": true, \"statuses_count\": 40298, \"lang\": null, \"status\": {\"created_at\": \"Fri Jun 05 13:53:47 +0000 2020\", \"id\": 1268903849525252096, \"id_str\": \"1268903849525252096\", \"text\": \"How can I forget Abbas Mustan bhai...it\\u2019s not just a film for me but a stepping stone in my career, a title which i\\u2026 https://t.co/tqTG3s43bO\", \"truncated\": true, \"entities\": {\"hashtags\": [], \"symbols\": [], \"user_mentions\": [], \"urls\": [{\"url\": \"https://t.co/tqTG3s43bO\", \"expanded_url\": \"https://twitter.com/i/web/status/1268903849525252096\", \"display_url\": \"twitter.com/i/web/status/1\\u2026\", \"indices\": [117, 140]}]}, \"source\": \"<a href=\\\"http://twitter.com/download/iphone\\\" rel=\\\"nofollow\\\">Twitter for iPhone</a>\", \"in_reply_to_status_id\": null, \"in_reply_to_status_id_str\": null, \"in_reply_to_user_id\": null, \"in_reply_to_user_id_str\": null, \"in_reply_to_screen_name\": null, \"geo\": null, \"coordinates\": null, \"place\": null, \"contributors\": null, \"is_quote_status\": true, \"quoted_status_id\": 1268868685482999808, \"quoted_status_id_str\": \"1268868685482999808\", \"retweet_count\": 2348, \"favorite_count\": 29203, \"favorited\": false, \"retweeted\": false, \"possibly_sensitive\": false, \"lang\": \"en\"}, \"contributors_enabled\": false, \"is_translator\": false, \"is_translation_enabled\": false, \"profile_background_color\": \"9AE4E8\", \"profile_background_image_url\": \"http://abs.twimg.com/images/themes/theme1/bg.png\", \"profile_background_image_url_https\": \"https://abs.twimg.com/images/themes/theme1/bg.png\", \"profile_background_tile\": false, \"profile_image_url\": \"http://pbs.twimg.com/profile_images/1263033005758545921/4K0V7QQi_normal.jpg\", \"profile_image_url_https\": \"https://pbs.twimg.com/profile_images/1263033005758545921/4K0V7QQi_normal.jpg\", \"profile_banner_url\": \"https://pbs.twimg.com/profile_banners/31348594/1583041959\", \"profile_link_color\": \"0084B4\", \"profile_sidebar_border_color\": \"121212\", \"profile_sidebar_fill_color\": \"B3B3B3\", \"profile_text_color\": \"333333\", \"profile_use_background_image\": true, \"has_extended_profile\": false, \"default_profile\": false, \"default_profile_image\": false, \"following\": true, \"live_following\": false, \"follow_request_sent\": false, \"notifications\": false, \"muting\": false, \"blocking\": false, \"blocked_by\": false, \"translator_type\": \"none\"}\n",
      "{\"id\": 107135915, \"id_str\": \"107135915\", \"name\": \"Ashish Chanchlani\", \"screen_name\": \"ashchanchlani\", \"location\": \"\", \"description\": \"paisa khake review dene wala according to twitter\\u2022 https://t.co/M7viPMvsnh \\u2022 https://t.co/5QRqFdpAY7\", \"url\": \"https://t.co/jhukxPaf05\", \"entities\": {\"url\": {\"urls\": [{\"url\": \"https://t.co/jhukxPaf05\", \"expanded_url\": \"https://m.youtube.com/user/ashchanchlani\", \"display_url\": \"m.youtube.com/user/ashchanch\\u2026\", \"indices\": [0, 23]}]}, \"description\": {\"urls\": [{\"url\": \"https://t.co/M7viPMvsnh\", \"expanded_url\": \"http://www.facebook.com/officialashchanchlani\", \"display_url\": \"facebook.com/officialashcha\\u2026\", \"indices\": [51, 74]}, {\"url\": \"https://t.co/5QRqFdpAY7\", \"expanded_url\": \"http://www.instagram.com/ashishchanchlani\", \"display_url\": \"instagram.com/ashishchanchla\\u2026\", \"indices\": [77, 100]}]}}, \"protected\": false, \"followers_count\": 1150451, \"friends_count\": 349, \"listed_count\": 66, \"created_at\": \"Thu Jan 21 17:09:12 +0000 2010\", \"favourites_count\": 1340, \"utc_offset\": null, \"time_zone\": null, \"geo_enabled\": true, \"verified\": true, \"statuses_count\": 4164, \"lang\": null, \"status\": {\"created_at\": \"Thu Jun 04 17:50:17 +0000 2020\", \"id\": 1268600979064143872, \"id_str\": \"1268600979064143872\", \"text\": \"RT @KomalNahta: These two young boys, Ashish Chanchlani and Nick, are like a house on fire. Watch this laugh riot of an episode and lock up\\u2026\", \"truncated\": false, \"entities\": {\"hashtags\": [], \"symbols\": [], \"user_mentions\": [{\"screen_name\": \"KomalNahta\", \"name\": \"Komal Nahta\", \"id\": 115290697, \"id_str\": \"115290697\", \"indices\": [3, 14]}], \"urls\": []}, \"source\": \"<a href=\\\"http://twitter.com/download/iphone\\\" rel=\\\"nofollow\\\">Twitter for iPhone</a>\", \"in_reply_to_status_id\": null, \"in_reply_to_status_id_str\": null, \"in_reply_to_user_id\": null, \"in_reply_to_user_id_str\": null, \"in_reply_to_screen_name\": null, \"geo\": null, \"coordinates\": null, \"place\": null, \"contributors\": null, \"retweeted_status\": {\"created_at\": \"Thu Jun 04 16:22:28 +0000 2020\", \"id\": 1268578880186494976, \"id_str\": \"1268578880186494976\", \"text\": \"These two young boys, Ashish Chanchlani and Nick, are like a house on fire. Watch this laugh riot of an episode and\\u2026 https://t.co/RNyUee0ys5\", \"truncated\": true, \"entities\": {\"hashtags\": [], \"symbols\": [], \"user_mentions\": [], \"urls\": [{\"url\": \"https://t.co/RNyUee0ys5\", \"expanded_url\": \"https://twitter.com/i/web/status/1268578880186494976\", \"display_url\": \"twitter.com/i/web/status/1\\u2026\", \"indices\": [117, 140]}]}, \"source\": \"<a href=\\\"http://twitter.com/download/iphone\\\" rel=\\\"nofollow\\\">Twitter for iPhone</a>\", \"in_reply_to_status_id\": null, \"in_reply_to_status_id_str\": null, \"in_reply_to_user_id\": null, \"in_reply_to_user_id_str\": null, \"in_reply_to_screen_name\": null, \"geo\": null, \"coordinates\": null, \"place\": null, \"contributors\": null, \"is_quote_status\": true, \"quoted_status_id\": 1268444878662320128, \"quoted_status_id_str\": \"1268444878662320128\", \"retweet_count\": 20, \"favorite_count\": 957, \"favorited\": false, \"retweeted\": false, \"possibly_sensitive\": false, \"lang\": \"en\"}, \"is_quote_status\": true, \"quoted_status_id\": 1268444878662320128, \"quoted_status_id_str\": \"1268444878662320128\", \"retweet_count\": 20, \"favorite_count\": 0, \"favorited\": false, \"retweeted\": false, \"lang\": \"en\"}, \"contributors_enabled\": false, \"is_translator\": false, \"is_translation_enabled\": false, \"profile_background_color\": \"C0DEED\", \"profile_background_image_url\": \"http://abs.twimg.com/images/themes/theme1/bg.png\", \"profile_background_image_url_https\": \"https://abs.twimg.com/images/themes/theme1/bg.png\", \"profile_background_tile\": false, \"profile_image_url\": \"http://pbs.twimg.com/profile_images/1207216825731207168/5K_rtlyd_normal.jpg\", \"profile_image_url_https\": \"https://pbs.twimg.com/profile_images/1207216825731207168/5K_rtlyd_normal.jpg\", \"profile_banner_url\": \"https://pbs.twimg.com/profile_banners/107135915/1522230031\", \"profile_link_color\": \"1DA1F2\", \"profile_sidebar_border_color\": \"C0DEED\", \"profile_sidebar_fill_color\": \"DDEEF6\", \"profile_text_color\": \"333333\", \"profile_use_background_image\": true, \"has_extended_profile\": true, \"default_profile\": true, \"default_profile_image\": false, \"following\": true, \"live_following\": false, \"follow_request_sent\": false, \"notifications\": false, \"muting\": false, \"blocking\": false, \"blocked_by\": false, \"translator_type\": \"none\"}\n",
      "{\"id\": 885487044243238912, \"id_str\": \"885487044243238912\", \"name\": \"President of India\", \"screen_name\": \"rashtrapatibhvn\", \"location\": \"New Delhi, India\", \"description\": \"This is the official Twitter account of Rashtrapati Bhavan and is run by the President\\u2019s Secretariat. Tweets from the President are signed #PresidentKovind\", \"url\": \"https://t.co/fC8RwDOH3c\", \"entities\": {\"url\": {\"urls\": [{\"url\": \"https://t.co/fC8RwDOH3c\", \"expanded_url\": \"http://presidentofindia.nic.in/index.htm\", \"display_url\": \"presidentofindia.nic.in/index.htm\", \"indices\": [0, 23]}]}, \"description\": {\"urls\": []}}, \"protected\": false, \"followers_count\": 9773777, \"friends_count\": 1, \"listed_count\": 1071, \"created_at\": \"Thu Jul 13 13:12:17 +0000 2017\", \"favourites_count\": 1, \"utc_offset\": null, \"time_zone\": null, \"geo_enabled\": false, \"verified\": true, \"statuses_count\": 7464, \"lang\": null, \"status\": {\"created_at\": \"Fri Jun 05 04:38:43 +0000 2020\", \"id\": 1268764163381157888, \"id_str\": \"1268764163381157888\", \"text\": \"\\u0907\\u0938 \\u0935\\u0930\\u094d\\u0937 \\u092f\\u0939 \\u0926\\u093f\\u0935\\u0938, \\u0935\\u0948\\u0936\\u094d\\u0935\\u093f\\u0915 \\u092e\\u0939\\u093e\\u092e\\u093e\\u0930\\u0940 \\u0915\\u094b\\u0935\\u093f\\u0921 -19 \\u0915\\u0947 \\u0938\\u092e\\u092f \\u0906\\u092f\\u093e \\u0939\\u0948\\u0964 \\u0935\\u093f\\u0936\\u094d\\u0935 \\u0928\\u0947 \\u0907\\u0938 \\u091a\\u0941\\u0928\\u094c\\u0924\\u0940 \\u0915\\u0947 \\u0938\\u092e\\u094d\\u092e\\u0941\\u0916 \\u092a\\u094d\\u0930\\u092d\\u093e\\u0935\\u0940 \\u090f\\u0915\\u091c\\u0941\\u091f\\u0924\\u093e \\u0926\\u093f\\u0916\\u093e\\u0908 \\u0939\\u0948\\u0964\\u2026 https://t.co/0waLwTAux9\", \"truncated\": true, \"entities\": {\"hashtags\": [], \"symbols\": [], \"user_mentions\": [], \"urls\": [{\"url\": \"https://t.co/0waLwTAux9\", \"expanded_url\": \"https://twitter.com/i/web/status/1268764163381157888\", \"display_url\": \"twitter.com/i/web/status/1\\u2026\", \"indices\": [114, 137]}]}, \"source\": \"<a href=\\\"https://mobile.twitter.com\\\" rel=\\\"nofollow\\\">Twitter Web App</a>\", \"in_reply_to_status_id\": 1268763766897864704, \"in_reply_to_status_id_str\": \"1268763766897864704\", \"in_reply_to_user_id\": 885487044243238912, \"in_reply_to_user_id_str\": \"885487044243238912\", \"in_reply_to_screen_name\": \"rashtrapatibhvn\", \"geo\": null, \"coordinates\": null, \"place\": null, \"contributors\": null, \"is_quote_status\": false, \"retweet_count\": 193, \"favorite_count\": 2216, \"favorited\": false, \"retweeted\": false, \"lang\": \"hi\"}, \"contributors_enabled\": false, \"is_translator\": false, \"is_translation_enabled\": false, \"profile_background_color\": \"F5F8FA\", \"profile_background_image_url\": null, \"profile_background_image_url_https\": null, \"profile_background_tile\": false, \"profile_image_url\": \"http://pbs.twimg.com/profile_images/921303478684790784/FLIFCZxh_normal.jpg\", \"profile_image_url_https\": \"https://pbs.twimg.com/profile_images/921303478684790784/FLIFCZxh_normal.jpg\", \"profile_banner_url\": \"https://pbs.twimg.com/profile_banners/885487044243238912/1532677314\", \"profile_link_color\": \"1DA1F2\", \"profile_sidebar_border_color\": \"C0DEED\", \"profile_sidebar_fill_color\": \"DDEEF6\", \"profile_text_color\": \"333333\", \"profile_use_background_image\": true, \"has_extended_profile\": false, \"default_profile\": true, \"default_profile_image\": false, \"following\": true, \"live_following\": false, \"follow_request_sent\": false, \"notifications\": false, \"muting\": false, \"blocking\": false, \"blocked_by\": false, \"translator_type\": \"none\"}\n"
     ]
    }
   ],
   "source": [
    "#Listing all the 'Followers' of our Twitter account:\n",
    "for friend in tweepy.Cursor(api.friends).items():\n",
    "    process_or_store(friend._json)"
   ]
  },
  {
   "cell_type": "code",
   "execution_count": 68,
   "metadata": {},
   "outputs": [],
   "source": [
    "#Listing all the tweets from our Twitter account:\n",
    "for tweet in tweepy.Cursor(api.user_timeline).items(1):\n",
    "    process_or_store(tweet._json)"
   ]
  },
  {
   "cell_type": "code",
   "execution_count": 69,
   "metadata": {},
   "outputs": [],
   "source": [
    "#Choosing the user whoose tweets we want to read:\n",
    "userID = \"garvitarya\""
   ]
  },
  {
   "cell_type": "markdown",
   "metadata": {},
   "source": [
    "<img src=\"https://s3.india.com/wp-content/uploads/2020/04/narendra-modi-gamcha-twitter-dp-changed-lockdown-extension-speech-main.jpg\" width=\"500\" height=\"100\" align=\"center\"/>\n"
   ]
  },
  {
   "cell_type": "code",
   "execution_count": 70,
   "metadata": {},
   "outputs": [],
   "source": [
    "#Extracting all the tweets of the userID using the Twitter API:\n",
    "tweets = api.user_timeline(screen_name=userID, \n",
    "                           # Number of tweets to be extracted:\n",
    "                           count=200,\n",
    "                           #Excluding the retweets:\n",
    "                           include_rts = False,\n",
    "                           # tweet mode is necessary to set 'extended' to keep full texts otherwise only the first 140 words are extracted\n",
    "                           tweet_mode = 'extended')"
   ]
  },
  {
   "cell_type": "code",
   "execution_count": 71,
   "metadata": {},
   "outputs": [
    {
     "name": "stdout",
     "output_type": "stream",
     "text": [
      "ID: 305007949774979072\n",
      "2013-02-22 17:35:36\n",
      "achha bolte hai aap yaad nahi hoga aapko main vahi hun jo axic bank vaishali sec-4 ma main aapkse haath milaya tha aap phone par vyast the\n",
      "\n",
      "\n",
      "ID: 300074449762406400\n",
      "2013-02-09 02:51:38\n",
      "Or ghaziabad ka paani bahut hi ganda aata hai\n",
      "\n",
      "\n",
      "ID: 300074036820602881\n",
      "2013-02-09 02:50:00\n",
      "yes you are right\n",
      "\n",
      "\n"
     ]
    }
   ],
   "source": [
    "#Displaying the last three tweets made by the userID from his Twitter account:\n",
    "for info in tweets[:3]:\n",
    "     #Printing the tweet ID:\n",
    "     print(\"ID: {}\".format(info.id))\n",
    "     #Printing the tweet timestamp:\n",
    "     print(info.created_at)\n",
    "     #Printing the complete text of the tweet made:\n",
    "     print(info.full_text)\n",
    "     print(\"\\n\")"
   ]
  },
  {
   "cell_type": "code",
   "execution_count": 40,
   "metadata": {},
   "outputs": [
    {
     "name": "stdout",
     "output_type": "stream",
     "text": [
      "N of tweets downloaded till now 393\n",
      "N of tweets downloaded till now 592\n",
      "N of tweets downloaded till now 791\n",
      "N of tweets downloaded till now 991\n",
      "N of tweets downloaded till now 1191\n",
      "N of tweets downloaded till now 1389\n",
      "N of tweets downloaded till now 1588\n",
      "N of tweets downloaded till now 1788\n",
      "N of tweets downloaded till now 1988\n",
      "N of tweets downloaded till now 2186\n",
      "N of tweets downloaded till now 2386\n",
      "N of tweets downloaded till now 2586\n",
      "N of tweets downloaded till now 2786\n",
      "N of tweets downloaded till now 2937\n",
      "N of tweets downloaded till now 3137\n",
      "N of tweets downloaded till now 3159\n"
     ]
    }
   ],
   "source": [
    "#Downloading as many tweets as possible of the userID:\n",
    "all_tweets = [] #Creating an empty list to store all tweets:\n",
    "all_tweets.extend(tweets)\n",
    "oldest_id = tweets[-1].id\n",
    "while True:\n",
    "    tweets = api.user_timeline(screen_name=userID,count=200,include_rts = False,max_id = oldest_id - 1,tweet_mode = 'extended')                  \n",
    "    if len(tweets) == 0:\n",
    "        break\n",
    "    oldest_id = tweets[-1].id\n",
    "    all_tweets.extend(tweets)\n",
    "    print('N of tweets downloaded till now {}'.format(len(all_tweets)))"
   ]
  },
  {
   "cell_type": "code",
   "execution_count": 58,
   "metadata": {},
   "outputs": [],
   "source": [
    "#Encoding the strings of tweets into utf-8 format:\n",
    "for info in tweets:\n",
    "    info.full_text.encode(\"utf-8\")"
   ]
  },
  {
   "cell_type": "code",
   "execution_count": 59,
   "metadata": {},
   "outputs": [
    {
     "data": {
      "text/html": [
       "<div>\n",
       "<style scoped>\n",
       "    .dataframe tbody tr th:only-of-type {\n",
       "        vertical-align: middle;\n",
       "    }\n",
       "\n",
       "    .dataframe tbody tr th {\n",
       "        vertical-align: top;\n",
       "    }\n",
       "\n",
       "    .dataframe thead th {\n",
       "        text-align: right;\n",
       "    }\n",
       "</style>\n",
       "<table border=\"1\" class=\"dataframe\">\n",
       "  <thead>\n",
       "    <tr style=\"text-align: right;\">\n",
       "      <th></th>\n",
       "      <th>Tweet_ID</th>\n",
       "      <th>Timestamp</th>\n",
       "      <th>Favorite_Count</th>\n",
       "      <th>Retweet_Count</th>\n",
       "      <th>Tweet</th>\n",
       "    </tr>\n",
       "  </thead>\n",
       "  <tbody>\n",
       "    <tr>\n",
       "      <th>0</th>\n",
       "      <td>1268459977078738945</td>\n",
       "      <td>2020-06-04 08:30:00</td>\n",
       "      <td>25582</td>\n",
       "      <td>3001</td>\n",
       "      <td>Sad to hear of the demise of Shri Basu Chatter...</td>\n",
       "    </tr>\n",
       "    <tr>\n",
       "      <th>1</th>\n",
       "      <td>1268436008200175617</td>\n",
       "      <td>2020-06-04 06:54:45</td>\n",
       "      <td>17164</td>\n",
       "      <td>2217</td>\n",
       "      <td>With Comprehensive Strategic Partnership betwe...</td>\n",
       "    </tr>\n",
       "    <tr>\n",
       "      <th>2</th>\n",
       "      <td>1268436005692026881</td>\n",
       "      <td>2020-06-04 06:54:44</td>\n",
       "      <td>30586</td>\n",
       "      <td>4371</td>\n",
       "      <td>A new model of India-Australia partnership, a ...</td>\n",
       "    </tr>\n",
       "  </tbody>\n",
       "</table>\n",
       "</div>"
      ],
      "text/plain": [
       "              Tweet_ID           Timestamp  Favorite_Count  Retweet_Count  \\\n",
       "0  1268459977078738945 2020-06-04 08:30:00           25582           3001   \n",
       "1  1268436008200175617 2020-06-04 06:54:45           17164           2217   \n",
       "2  1268436005692026881 2020-06-04 06:54:44           30586           4371   \n",
       "\n",
       "                                               Tweet  \n",
       "0  Sad to hear of the demise of Shri Basu Chatter...  \n",
       "1  With Comprehensive Strategic Partnership betwe...  \n",
       "2  A new model of India-Australia partnership, a ...  "
      ]
     },
     "execution_count": 59,
     "metadata": {},
     "output_type": "execute_result"
    }
   ],
   "source": [
    "#Creating a .csv file and storing all the tweets of the userID into that file:\n",
    "from pandas import DataFrame\n",
    "outtweets = [[tweet.id_str, \n",
    "              tweet.created_at, \n",
    "              tweet.favorite_count, \n",
    "              tweet.retweet_count, \n",
    "              tweet.full_text.encode(\"utf-8\").decode(\"utf-8\")] \n",
    "             for idx,tweet in enumerate(all_tweets)]\n",
    "df = DataFrame(outtweets,columns=[\"Tweet_ID\",\"Timestamp\",\"Favorite_Count\",\"Retweet_Count\", \"Tweet\"])\n",
    "df.to_csv('%s_tweets.csv' % userID,index=False)\n",
    "df.head(3)"
   ]
  },
  {
   "cell_type": "code",
   "execution_count": null,
   "metadata": {},
   "outputs": [],
   "source": []
  }
 ],
 "metadata": {
  "kernelspec": {
   "display_name": "Python 3",
   "language": "python",
   "name": "python3"
  },
  "language_info": {
   "codemirror_mode": {
    "name": "ipython",
    "version": 3
   },
   "file_extension": ".py",
   "mimetype": "text/x-python",
   "name": "python",
   "nbconvert_exporter": "python",
   "pygments_lexer": "ipython3",
   "version": "3.7.6"
  }
 },
 "nbformat": 4,
 "nbformat_minor": 4
}
